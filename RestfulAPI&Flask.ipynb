{
  "nbformat": 4,
  "nbformat_minor": 0,
  "metadata": {
    "colab": {
      "provenance": [],
      "authorship_tag": "ABX9TyPcVdGPgdVtVH3astQ6p9lm",
      "include_colab_link": true
    },
    "kernelspec": {
      "name": "python3",
      "display_name": "Python 3"
    },
    "language_info": {
      "name": "python"
    }
  },
  "cells": [
    {
      "cell_type": "markdown",
      "metadata": {
        "id": "view-in-github",
        "colab_type": "text"
      },
      "source": [
        "<a href=\"https://colab.research.google.com/github/ankit221814/PYTHON/blob/main/RestfulAPI%26Flask.ipynb\" target=\"_parent\"><img src=\"https://colab.research.google.com/assets/colab-badge.svg\" alt=\"Open In Colab\"/></a>"
      ]
    },
    {
      "cell_type": "markdown",
      "source": [
        "1.What is a RESTful API?\n",
        "\n",
        "A RESTful API is an application programming interface (API) that follows the principles of REST (Representational State Transfer). It's a way for a client (like a web browser or mobile app) to communicate with a server over the internet using standard HTTP methods to perform operations on resources, which are identified by unique URLs."
      ],
      "metadata": {
        "id": "39VdRNK7aDfO"
      }
    },
    {
      "cell_type": "markdown",
      "source": [
        "2.Explain the concept of API specification.\n",
        "\n",
        "An API specification is a detailed, machine-readable document that describes what an API does. It defines the available endpoints, the HTTP methods they use, the data formats for requests and responses, and any authentication requirements. Tools like OpenAPI (formerly Swagger) are used to create these specifications, which serve as a contract between the API provider and the consumer."
      ],
      "metadata": {
        "id": "a6EvrbkPaDbp"
      }
    },
    {
      "cell_type": "markdown",
      "source": [
        "3.What is Flask, and why is it popular for building APIs?\n",
        "\n",
        "Flask is a micro-framework for Python. It's popular for building APIs because it's lightweight and flexible, providing only the essential tools needed for web development. This minimalist design gives developers full control over the components they use, making it an excellent choice for creating simple, fast, and custom APIs.\n",
        "\n"
      ],
      "metadata": {
        "id": "5mTU2pDOaDY_"
      }
    },
    {
      "cell_type": "markdown",
      "source": [
        "4.What is routing in Flask?\n",
        "\n",
        "Routing in Flask is the process of linking a specific URL to a Python function. When a user requests a URL, Flask's routing system finds the corresponding function to execute and returns its output as the response."
      ],
      "metadata": {
        "id": "b0uJxmabaDWW"
      }
    },
    {
      "cell_type": "markdown",
      "source": [
        "5.How do you create a simple Flask application?\n",
        "\n",
        "You can create a basic Flask application with just a few lines of code. You first import the Flask class, create an instance of the app, define a route using the @app.route() decorator, and then run the application."
      ],
      "metadata": {
        "id": "PpY8_1qiaDTn"
      }
    },
    {
      "cell_type": "code",
      "source": [
        "from flask import Flask\n",
        "\n",
        "app = Flask(__name__)\n",
        "\n",
        "@app.route('/')\n",
        "def home():\n",
        "    return 'Hello, World!'\n",
        "\n",
        "if __name__ == '__main__':\n",
        "    app.run(debug=True)"
      ],
      "metadata": {
        "colab": {
          "base_uri": "https://localhost:8080/"
        },
        "id": "Sp5pcSFXag-v",
        "outputId": "32f28c06-0db2-4fd9-fcf3-d276fdf92af6"
      },
      "execution_count": null,
      "outputs": [
        {
          "metadata": {
            "tags": null
          },
          "name": "stdout",
          "output_type": "stream",
          "text": [
            " * Serving Flask app '__main__'\n",
            " * Debug mode: on\n"
          ]
        },
        {
          "metadata": {
            "tags": null
          },
          "name": "stderr",
          "output_type": "stream",
          "text": [
            "INFO:werkzeug:\u001b[31m\u001b[1mWARNING: This is a development server. Do not use it in a production deployment. Use a production WSGI server instead.\u001b[0m\n",
            " * Running on http://127.0.0.1:5000\n",
            "INFO:werkzeug:\u001b[33mPress CTRL+C to quit\u001b[0m\n",
            "INFO:werkzeug: * Restarting with watchdog (inotify)\n"
          ]
        }
      ]
    },
    {
      "cell_type": "markdown",
      "source": [
        "6.What are HTTP methods used in RESTful APIs?\n",
        "\n",
        "HTTP methods (also called verbs) define the action to be performed on a resource. The most common methods used in RESTful APIs are:\n",
        "\n",
        "GET: Retrieves a resource.\n",
        "\n",
        "POST: Creates a new resource.\n",
        "\n",
        "PUT: Updates a resource entirely.\n",
        "\n",
        "PATCH: Updates a resource partially.\n",
        "\n",
        "DELETE: Deletes a resource."
      ],
      "metadata": {
        "id": "sM8qagN1aDQv"
      }
    },
    {
      "cell_type": "markdown",
      "source": [
        "7.What is the purpose of the @app.route() decorator in Flask?\n",
        "\n",
        "The @app.route() decorator is used to bind a URL path to a specific Python function. It tells Flask which function to run when a user navigates to a particular URL."
      ],
      "metadata": {
        "id": "OedmwOGzaDOH"
      }
    },
    {
      "cell_type": "markdown",
      "source": [
        "8.What is the difference between GET and POST HTTP methods?\n",
        "\n",
        "GET is used to retrieve data. It doesn't have a request body, and its parameters are sent in the URL's query string.\n",
        "\n",
        "POST is used to submit data to create a new resource. The data is sent in the request body, which can contain sensitive information."
      ],
      "metadata": {
        "id": "RyPy7l3maDLn"
      }
    },
    {
      "cell_type": "markdown",
      "source": [
        "9.How do you handle errors in Flask APIs?\n",
        "\n",
        "You can handle errors in Flask using the @app.errorhandler() decorator. This decorator allows you to register a function that will be executed when a specific HTTP error code occurs, such as 404 Not Found or 500 Internal Server Error."
      ],
      "metadata": {
        "id": "fORLVceiaDIn"
      }
    },
    {
      "cell_type": "markdown",
      "source": [
        "10.How do you connect Flask to a SQL database?\n",
        "\n",
        "You typically connect Flask to a SQL database using a Python library called an ORM (Object-Relational Mapper), such as SQLAlchemy. The ORM allows you to interact with the database using Python objects and methods instead of writing raw SQL queries."
      ],
      "metadata": {
        "id": "bnUNK4q3aDFi"
      }
    },
    {
      "cell_type": "markdown",
      "source": [
        "11.What is the role of Flask-SQLAlchemy?\n",
        "\n",
        "Flask-SQLAlchemy is a Flask extension that simplifies the use of SQLAlchemy within a Flask application. It handles the database session management, configuration, and other boilerplate code, making it easier to integrate a database with your Flask app."
      ],
      "metadata": {
        "id": "aKBsT1KZaDC0"
      }
    },
    {
      "cell_type": "markdown",
      "source": [
        "12.What are Flask blueprints, and how are they useful?\n",
        "\n",
        "Flask blueprints are a way to organize a Flask application into smaller, reusable components. They are useful for:\n",
        "\n",
        "Modularizing large applications.\n",
        "\n",
        "Creating a better project structure.\n",
        "\n",
        "Making parts of your application reusable.\n",
        "\n",
        "Managing separate URL prefixes, templates, and static files for different parts of your app."
      ],
      "metadata": {
        "id": "u8z7i-rhaC_-"
      }
    },
    {
      "cell_type": "markdown",
      "source": [
        "13.What is the purpose of Flask's request object?\n",
        "\n",
        "The request object is a global object that holds all the incoming data from the client's HTTP request. It provides access to request data such as form data (request.form), JSON data (request.json), URL parameters (request.args), and the HTTP method used (request.method)."
      ],
      "metadata": {
        "id": "piQXMYY4aC9M"
      }
    },
    {
      "cell_type": "markdown",
      "source": [
        "14.How do you create a RESTful API endpoint using Flask?\n",
        "\n",
        "You create a RESTful API endpoint using the @app.route() decorator and specifying the allowed HTTP methods with the methods parameter. For example, to create a resource endpoint that handles both GET and POST requests:"
      ],
      "metadata": {
        "id": "sOXA9q7naC6j"
      }
    },
    {
      "cell_type": "code",
      "source": [
        "from flask import request\n",
        "\n",
        "@app.route('/api/resource', methods=['GET', 'POST'])\n",
        "def handle_resource():\n",
        "    if request.method == 'POST':\n",
        "        # logic to create a resource\n",
        "        return \"Resource created\", 201\n",
        "    else:\n",
        "        # logic to retrieve resources\n",
        "        return \"List of resources\""
      ],
      "metadata": {
        "id": "0tBa7bvabcvr"
      },
      "execution_count": null,
      "outputs": []
    },
    {
      "cell_type": "markdown",
      "source": [
        "15.What is the purpose of Flask's jsonify() function?\n",
        "\n",
        "The jsonify() function is a helper that serializes a Python dictionary or other data structure into a JSON-formatted response. It also sets the Content-Type header to application/json, which is the standard format for API responses.\n",
        "\n"
      ],
      "metadata": {
        "id": "pwLmJD2UaC32"
      }
    },
    {
      "cell_type": "markdown",
      "source": [
        "16.Explain Flask’s url_for() function.\n",
        "\n",
        "The url_for() function is a utility for URL building. It generates a URL for a given function or endpoint name. Its primary purpose is to avoid hardcoding URLs in your application, making it more maintainable. If you change a route's URL, url_for() automatically updates all links that use it."
      ],
      "metadata": {
        "id": "I-AEUv99aC1C"
      }
    },
    {
      "cell_type": "markdown",
      "source": [
        "17.How does Flask handle static files (CSS, JavaScript, etc.)?\n",
        "\n",
        "Flask handles static files by creating a static folder in your project directory.  You can then reference these files in your templates using the url_for() function with the 'static' endpoint and the file's name:\n",
        "\n",
        "HTML"
      ],
      "metadata": {
        "id": "5KBM3OH1aCx_"
      }
    },
    {
      "cell_type": "code",
      "source": [
        "<link rel=\"stylesheet\" href=\"{{ url_for('static', filename='css/style.css') }}\">"
      ],
      "metadata": {
        "id": "_cxxVOizbvx4"
      },
      "execution_count": null,
      "outputs": []
    },
    {
      "cell_type": "markdown",
      "source": [
        "18.What is an API specification, and how does it help in building a Flask API4?\n",
        "\n",
        "An API specification is a formal document (or set of rules) that defines how an API works. It describes the endpoints, request formats, response formats, authentication methods, and error handling of the API."
      ],
      "metadata": {
        "id": "VDI2zakOcMRc"
      }
    },
    {
      "cell_type": "markdown",
      "source": [
        "19.What are HTTP status codes, and why are they important in a Flask API?\n",
        "\n",
        "HTTP status codes are three-digit numbers that indicate the result of an HTTP request. They are important in a Flask API because they provide a standardized way to communicate the outcome of an operation to the client. For example, a 200 means \"OK,\" 201 means \"Created,\" 404 means \"Not Found,\" and 500 means \"Internal Server Error.\""
      ],
      "metadata": {
        "id": "PRP3eYJgcMOD"
      }
    },
    {
      "cell_type": "markdown",
      "source": [
        "20.How do you handle POST requests in Flask?\n",
        "\n",
        "In Flask, you handle POST requests by defining a route with the methods=['POST'] argument.\n",
        "\n",
        "You can then access form data (request.form) or JSON data (request.json).\n",
        "\n",
        "✅ Example:"
      ],
      "metadata": {
        "id": "UBl7x_JpcMLk"
      }
    },
    {
      "cell_type": "code",
      "source": [
        "from flask import Flask, request, jsonify\n",
        "\n",
        "app = Flask(__name__)\n",
        "\n",
        "@app.route('/add-user', methods=['POST'])\n",
        "def add_user():\n",
        "    data = request.json  # get JSON data\n",
        "    name = data.get(\"name\")\n",
        "    email = data.get(\"email\")\n",
        "    return jsonify({\"message\": f\"User {name} with email {email} added successfully!\"})\n",
        "\n",
        "if __name__ == '__main__':\n",
        "    app.run(debug=True)\n"
      ],
      "metadata": {
        "id": "4D7vOpC2ct_M"
      },
      "execution_count": null,
      "outputs": []
    },
    {
      "cell_type": "markdown",
      "source": [
        "21.How would you secure a Flask API?\n",
        "\n",
        "Securing a Flask API involves multiple layers:\n",
        "\n",
        "Authentication & Authorization\n",
        "\n",
        "Use API keys, JWT tokens, or OAuth2 for verifying users.\n",
        "\n",
        "Input Validation & Sanitization\n",
        "\n",
        "Validate incoming data to prevent SQL injection / XSS.\n",
        "\n",
        "HTTPS\n",
        "\n",
        "Always run the API over SSL/TLS.\n",
        "\n",
        "Rate Limiting\n",
        "\n",
        "Prevent brute force or DDoS attacks (e.g., Flask-Limiter).\n",
        "\n",
        "CORS Control\n",
        "\n",
        "Restrict which domains can call your API.\n",
        "\n",
        "Error Handling\n",
        "\n",
        "Don’t leak sensitive info in error messages."
      ],
      "metadata": {
        "id": "rA8WADD2cMJQ"
      }
    },
    {
      "cell_type": "markdown",
      "source": [
        "22.What is the significance of the Flask-RESTful extension?\n",
        "\n",
        "Flask-RESTful is an extension that helps you build REST APIs faster and more cleanly.\n",
        "\n",
        "Benefits:\n",
        "\n",
        "Provides a Resource class to organize endpoints as objects.\n",
        "\n",
        "Makes request parsing easier with reqparse.\n",
        "\n",
        "Supports automatic input validation.\n",
        "\n",
        "Produces cleaner, more maintainable code compared to plain Flask routes."
      ],
      "metadata": {
        "id": "mTEnBHy2cMGn"
      }
    },
    {
      "cell_type": "code",
      "source": [
        "from flask import Flask\n",
        "from flask_restful import Resource, Api\n",
        "\n",
        "app = Flask(__name__)\n",
        "api = Api(app)\n",
        "\n",
        "class Hello(Resource):\n",
        "    def get(self):\n",
        "        return {\"message\": \"Hello, Flask-RESTful!\"}\n",
        "\n",
        "api.add_resource(Hello, '/')\n",
        "\n",
        "if __name__ == '__main__':\n",
        "    app.run(debug=True)\n"
      ],
      "metadata": {
        "id": "XN8Tiv1LdCL8"
      },
      "execution_count": null,
      "outputs": []
    },
    {
      "cell_type": "markdown",
      "source": [
        "23.What is the role of Flask’s session object?\n",
        "\n",
        "session in Flask is used to store data across requests for a specific user.\n",
        "\n",
        "It works like a dictionary and stores data on the server-side, but sends a signed cookie to the client for verification.\n",
        "\n",
        "Example use case: Keeping a user logged in after authentication."
      ],
      "metadata": {
        "id": "yg4zmDpYcL--"
      }
    },
    {
      "cell_type": "code",
      "source": [
        "from flask import Flask, session, redirect, url_for\n",
        "\n",
        "app = Flask(__name__)\n",
        "app.secret_key = \"supersecretkey\"  # required for session\n",
        "\n",
        "@app.route('/login')\n",
        "def login():\n",
        "    session['user'] = 'Alice'\n",
        "    return \"User logged in!\"\n",
        "\n",
        "@app.route('/profile')\n",
        "def profile():\n",
        "    if 'user' in session:\n",
        "        return f\"Welcome {session['user']}!\"\n",
        "    return redirect(url_for('login'))\n",
        "\n",
        "if __name__ == '__main__':\n",
        "    app.run(debug=True)\n"
      ],
      "metadata": {
        "id": "ffFMZyVrdJBJ"
      },
      "execution_count": null,
      "outputs": []
    },
    {
      "cell_type": "markdown",
      "source": [
        "1. How would you secure a Flask API?\n",
        "\n",
        "Ways to secure a Flask API:\n",
        "\n",
        "✅ Authentication/Authorization – Use JWT, OAuth2, or API keys.\n",
        "\n",
        "✅ HTTPS – Always run with SSL/TLS.\n",
        "\n",
        "✅ Input validation – Sanitize user input to prevent SQL injection/XSS.\n",
        "\n",
        "✅ Rate limiting – Prevent brute force attacks (Flask-Limiter).\n",
        "\n",
        "✅ CORS control – Restrict which domains can call your API.\n",
        "\n",
        "✅ Error handling – Avoid exposing sensitive info in errors."
      ],
      "metadata": {
        "id": "L_KWGUdVeCXL"
      }
    },
    {
      "cell_type": "code",
      "source": [
        "#2. What is the significance of the Flask-RESTful extension?\n",
        "\n",
        "#Helps build REST APIs quickly & cleanly.\n",
        "\n",
        "#Provides Resource classes to organize endpoints.\n",
        "\n",
        "#Simplifies request parsing & validation with reqparse.\n",
        "\n",
        "#Produces maintainable, structured code.\n",
        "\n",
        "from flask import Flask\n",
        "from flask_restful import Api, Resource\n",
        "\n",
        "app = Flask(__name__)\n",
        "api = Api(app)\n",
        "\n",
        "class Hello(Resource):\n",
        "    def get(self):\n",
        "        return {\"message\": \"Hello, Flask-RESTful!\"}\n",
        "\n",
        "api.add_resource(Hello, '/')\n",
        "app.run(debug=True)\n"
      ],
      "metadata": {
        "id": "dZgmTgN2drBl"
      },
      "execution_count": null,
      "outputs": []
    },
    {
      "cell_type": "markdown",
      "source": [
        "3. What is the role of Flask’s session object?\n",
        "\n",
        "Stores data across requests for a user.\n",
        "\n",
        "Data is stored on server, signed cookie sent to client.\n",
        "\n",
        "Common use: keeping users logged in.\n",
        "\n",
        "✅ Example:"
      ],
      "metadata": {
        "id": "QmVihJx_e4hY"
      }
    },
    {
      "cell_type": "code",
      "source": [
        "from flask import Flask, session\n",
        "\n",
        "app = Flask(__name__)\n",
        "app.secret_key = \"secret\"\n",
        "\n",
        "@app.route('/login')\n",
        "def login():\n",
        "    session['user'] = 'Alice'\n",
        "    return \"User logged in!\"\n"
      ],
      "metadata": {
        "id": "jBBALd7jdq8Z"
      },
      "execution_count": null,
      "outputs": []
    },
    {
      "cell_type": "code",
      "source": [
        "#4. How do you create a basic Flask application?\n",
        "\n",
        "from flask import Flask\n",
        "\n",
        "app = Flask(__name__)\n",
        "\n",
        "@app.route('/')\n",
        "def home():\n",
        "    return \"Hello, Flask!\"\n",
        "\n",
        "if __name__ == '__main__':\n",
        "    app.run(debug=True)\n"
      ],
      "metadata": {
        "id": "4z7zeudre_d2"
      },
      "execution_count": null,
      "outputs": []
    },
    {
      "cell_type": "code",
      "source": [
        "#5. How do you serve static files like images or CSS in Flask?\n",
        "\n",
        "<link rel=\"stylesheet\" href=\"{{ url_for('static', filename='style.css') }}\">\n",
        "<img src=\"{{ url_for('static', filename='logo.png') }}\">\n"
      ],
      "metadata": {
        "id": "DJQMKllNdq5-"
      },
      "execution_count": null,
      "outputs": []
    },
    {
      "cell_type": "code",
      "source": [
        "#6. How do you define different routes with different HTTP methods in Flask?\n",
        "\n",
        "@app.route('/users', methods=['GET', 'POST'])\n",
        "def users():\n",
        "    if request.method == 'GET':\n",
        "        return \"Fetching users\"\n",
        "    if request.method == 'POST':\n",
        "        return \"Creating user\"\n",
        "\n"
      ],
      "metadata": {
        "id": "S3Jt1dhQdq3O"
      },
      "execution_count": null,
      "outputs": []
    },
    {
      "cell_type": "code",
      "source": [
        "#7. How do you render HTML templates in Flask?\n",
        "\n",
        "from flask import render_template\n",
        "\n",
        "@app.route('/profile')\n",
        "def profile():\n",
        "    return render_template('profile.html', name=\"Alice\")\n"
      ],
      "metadata": {
        "id": "MTRuhK-Ydq0R"
      },
      "execution_count": null,
      "outputs": []
    },
    {
      "cell_type": "code",
      "source": [
        "#8. How can you generate URLs for routes in Flask using url_for?\n",
        "\n",
        "from flask import url_for\n",
        "\n",
        "@app.route('/about')\n",
        "def about():\n",
        "    return \"About Page\"\n",
        "\n",
        "@app.route('/')\n",
        "def home():\n",
        "    return f\"Go to {url_for('about')}\"\n"
      ],
      "metadata": {
        "id": "enwqU_1kdqxs"
      },
      "execution_count": null,
      "outputs": []
    },
    {
      "cell_type": "code",
      "source": [
        "#9. How do you handle forms in Flask?\n",
        "\n",
        "@app.route('/submit', methods=['POST'])\n",
        "def submit():\n",
        "    name = request.form['name']\n",
        "    return f\"Hello {name}\"\n"
      ],
      "metadata": {
        "id": "njJ6c5Cvdqos"
      },
      "execution_count": null,
      "outputs": []
    },
    {
      "cell_type": "code",
      "source": [
        "#10. How can you validate form data in Flask?\n",
        "\n",
        "if not request.form.get('email'):\n",
        "    return \"Email required\"\n"
      ],
      "metadata": {
        "id": "OrHxC67_gHkA"
      },
      "execution_count": null,
      "outputs": []
    },
    {
      "cell_type": "code",
      "source": [
        "#11. How do you manage sessions in Flask?\n",
        "\n",
        "@app.route('/set')\n",
        "def set_session():\n",
        "    session['theme'] = 'dark'\n",
        "    return \"Session set!\"\n"
      ],
      "metadata": {
        "id": "o9GMLmGOgHYQ"
      },
      "execution_count": null,
      "outputs": []
    },
    {
      "cell_type": "code",
      "source": [
        "#12. How do you redirect to a different route in Flask?\n",
        "\n",
        "from flask import redirect, url_for\n",
        "\n",
        "@app.route('/go-home')\n",
        "def go_home():\n",
        "    return redirect(url_for('home'))\n"
      ],
      "metadata": {
        "id": "AZLoDaONgHLR"
      },
      "execution_count": null,
      "outputs": []
    },
    {
      "cell_type": "code",
      "source": [
        "#13. How do you handle errors in Flask (e.g., 404)?\n",
        "\n",
        "@app.errorhandler(404)\n",
        "def not_found(e):\n",
        "    return \"Page not found!\", 404\n"
      ],
      "metadata": {
        "id": "EPy0iOAogG76"
      },
      "execution_count": null,
      "outputs": []
    },
    {
      "cell_type": "code",
      "source": [
        "#14. How do you structure a Flask app using Blueprints?\n",
        "\n",
        "from flask import Blueprint\n",
        "\n",
        "users_bp = Blueprint('users', __name__)\n",
        "\n",
        "@users_bp.route('/users')\n",
        "def users():\n",
        "    return \"Users page\"\n",
        "\n",
        "app.register_blueprint(users_bp)\n"
      ],
      "metadata": {
        "id": "UxmQqb5MgkzA"
      },
      "execution_count": null,
      "outputs": []
    },
    {
      "cell_type": "code",
      "source": [
        "#15. How do you define a custom Jinja filter in Flask?\n",
        "\n",
        "@app.template_filter('reverse')\n",
        "def reverse_filter(s):\n",
        "    return s[::-1]\n",
        "\n",
        "# In template: {{ \"hello\" | reverse }}\n"
      ],
      "metadata": {
        "id": "fBETtiAkgm9h"
      },
      "execution_count": null,
      "outputs": []
    },
    {
      "cell_type": "code",
      "source": [
        "#16. How can you redirect with query parameters in Flask?\n",
        "\n",
        "return redirect(url_for('search', q=\"flask\"))\n"
      ],
      "metadata": {
        "id": "sqYyroT6gu4S"
      },
      "execution_count": null,
      "outputs": []
    },
    {
      "cell_type": "code",
      "source": [
        "#17. How do you return JSON responses in Flask?\n",
        "\n",
        "from flask import jsonify\n",
        "\n",
        "@app.route('/api')\n",
        "def api():\n",
        "    return jsonify({\"status\": \"success\", \"data\": [1, 2, 3]})\n"
      ],
      "metadata": {
        "id": "3m7oZeRNg6Ij"
      },
      "execution_count": null,
      "outputs": []
    },
    {
      "cell_type": "code",
      "source": [
        "#18. How do you capture URL parameters in Flask?\n",
        "\n",
        "@app.route('/user/<int:id>')\n",
        "def user(id):\n",
        "    return f\"User ID is {id}\"\n"
      ],
      "metadata": {
        "id": "-fEa9DbThAn9"
      },
      "execution_count": null,
      "outputs": []
    }
  ]
}