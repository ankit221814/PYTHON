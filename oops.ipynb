{
  "nbformat": 4,
  "nbformat_minor": 0,
  "metadata": {
    "colab": {
      "provenance": [],
      "authorship_tag": "ABX9TyObqqaYxu+0hp9aUKq1Wqko",
      "include_colab_link": true
    },
    "kernelspec": {
      "name": "python3",
      "display_name": "Python 3"
    },
    "language_info": {
      "name": "python"
    }
  },
  "cells": [
    {
      "cell_type": "markdown",
      "metadata": {
        "id": "view-in-github",
        "colab_type": "text"
      },
      "source": [
        "<a href=\"https://colab.research.google.com/github/ankit221814/PYTHON/blob/main/oops.ipynb\" target=\"_parent\"><img src=\"https://colab.research.google.com/assets/colab-badge.svg\" alt=\"Open In Colab\"/></a>"
      ]
    },
    {
      "cell_type": "markdown",
      "source": [
        "1. What is Object-Oriented Programming (OOP)?\n",
        "\n",
        "Answer:-Object-Oriented Programming (OOP) is a programming paradigm that revolves around the concept of \"objects\" that have properties and behaviors. It aims to implement real-world entities like inheritance, polymorphism, and encapsulation in programming."
      ],
      "metadata": {
        "id": "HKmB3uuIgF4W"
      }
    },
    {
      "cell_type": "markdown",
      "source": [
        "2. What is a class in OOP?\n",
        "\n",
        "Answer:-A class is a blueprint or template for creating objects. It defines the properties and behaviors of an object."
      ],
      "metadata": {
        "id": "b6-WR7wtgF0P"
      }
    },
    {
      "cell_type": "markdown",
      "source": [
        "3. What is an object in OOP?\n",
        "\n",
        "Answer:-An object is an instance of a class. It has its own set of attributes (data) and methods (functions)."
      ],
      "metadata": {
        "id": "q_tk9xLggFxs"
      }
    },
    {
      "cell_type": "markdown",
      "source": [
        "4.What is the difference between abstraction and encapsulation?\n",
        "\n",
        "Answer:-Abstraction is about showing only essential features and hiding internal details. Encapsulation is about bundling data and methods that operate on the data within a single unit (like a class), often hiding internal implementation."
      ],
      "metadata": {
        "id": "gMBEuHARgFvC"
      }
    },
    {
      "cell_type": "markdown",
      "source": [
        "5.What are dunder methods in Python?\n",
        "\n",
        "Answer:-Dunder methods (double underscore methods) in Python are special methods like init, str, etc. They're used for operator overloading, initialization, and other special operations."
      ],
      "metadata": {
        "id": "wQ9xDmmbgFsH"
      }
    },
    {
      "cell_type": "markdown",
      "source": [
        "6.Explain the concept of inheritance in OOP.\n",
        "\n",
        "Answer:-Inheritance allows a class to inherit properties and methods from another class. The child class inherits from the parent class and can also add new properties or override existing ones."
      ],
      "metadata": {
        "id": "tbxGS27LgFpO"
      }
    },
    {
      "cell_type": "markdown",
      "source": [
        "7.What is polymorphism in OOP?\n",
        "\n",
        "Answer:-Polymorphism is the ability of an object to take on many forms. It allows methods to perform different tasks based on the object they're acting upon."
      ],
      "metadata": {
        "id": "tQAZdoengFkx"
      }
    },
    {
      "cell_type": "markdown",
      "source": [
        "8.How is encapsulation achieved in Python?\n",
        "\n",
        "Answer:-Encapsulation in Python is achieved using classes and by making attributes private (using _ or __ before attribute names). Methods can control access to these attributes."
      ],
      "metadata": {
        "id": "TWvn18_xgFic"
      }
    },
    {
      "cell_type": "markdown",
      "source": [
        "9.What is a constructor in Python?\n",
        "\n",
        "Answer:-A constructor in Python is the init method. It's called when an object is created and is used to initialize attributes."
      ],
      "metadata": {
        "id": "FNnDs_wwgFfk"
      }
    },
    {
      "cell_type": "markdown",
      "source": [
        "10.What are class and static methods in Python?\n",
        "\n",
        "Answer:-Class methods (@classmethod) operate on the class itself. Static methods (@staticmethod) don't operate on the class or instance; they're like regular functions but belong to the class's namespace."
      ],
      "metadata": {
        "id": "pMewi8hagFc7"
      }
    },
    {
      "cell_type": "markdown",
      "source": [
        "11.What is method overloading in Python?\n",
        "\n",
        "Answer:-Python doesn't support traditional method overloading like some other languages. Instead, you can achieve similar functionality using default arguments or by using *args and **kwargs."
      ],
      "metadata": {
        "id": "RtWg_FbQgFaI"
      }
    },
    {
      "cell_type": "markdown",
      "source": [
        "12.What is method overriding in OOP?\n",
        "\n",
        "Answer:-Method overriding is when a child class provides a specific implementation of a method that is already defined in its parent class."
      ],
      "metadata": {
        "id": "0qQjeie9gFXg"
      }
    },
    {
      "cell_type": "markdown",
      "source": [
        "13.What is a property decorator in Python?\n",
        "\n",
        "Answer:-The @property decorator in Python allows you to define getter, setter, and deleter methods for an attribute, enabling controlled access to it."
      ],
      "metadata": {
        "id": "Nx9l-LdygFUl"
      }
    },
    {
      "cell_type": "markdown",
      "source": [
        "14.Why is polymorphism important in OOP?\n",
        "\n",
        "Answer:-Polymorphism is important because it allows for more flexibility in programming. You can write methods that can work with objects of different classes."
      ],
      "metadata": {
        "id": "wWwXDtCDgFRm"
      }
    },
    {
      "cell_type": "markdown",
      "source": [
        "15.What is an abstract class in Python?\n",
        "\n",
        "Answer:-An abstract class in Python is a class that can't be instantiated on its own and is meant to be inherited by other classes. You can define abstract methods using the abc module."
      ],
      "metadata": {
        "id": "hNKQdIoEgFO6"
      }
    },
    {
      "cell_type": "markdown",
      "source": [
        "16. What are the advantages of OOP?\n",
        "\n",
        "Answer:-Advantages of OOP include better code organization, reusability through inheritance, flexibility through polymorphism, and easier maintenance and modification of code."
      ],
      "metadata": {
        "id": "sEjE6kJfgFDD"
      }
    },
    {
      "cell_type": "markdown",
      "source": [],
      "metadata": {
        "id": "otpCD5XYi64Y"
      }
    },
    {
      "cell_type": "markdown",
      "source": [
        "17.What is the difference between a class variable and an instance variable?\n",
        "\n",
        "Answer:-Class variables are shared among all instances of a class. Instance variables are unique to each instance.\n",
        "\n"
      ],
      "metadata": {
        "id": "-Xvu1iWUi9Dj"
      }
    },
    {
      "cell_type": "markdown",
      "source": [
        "18.What is multiple inheritance in Python?\n",
        "\n",
        "Answer:-Multiple inheritance in Python allows a class to inherit from more than one parent class"
      ],
      "metadata": {
        "id": "-oxTVuGBi83X"
      }
    },
    {
      "cell_type": "markdown",
      "source": [
        "19.Explain the purpose of __str__ and __repr__ methods in Python.\n",
        "\n",
        "Answer:-__str__ provides a user-friendly string representation. __repr__ provides an official string representation, often used for debugging.\n"
      ],
      "metadata": {
        "id": "mGK7a27ni8rj"
      }
    },
    {
      "cell_type": "markdown",
      "source": [
        "20.What is the significance of the super() function in Python?\n",
        "\n",
        "Answer:-super() is used to call methods of a parent class, especially in inheritance.\n"
      ],
      "metadata": {
        "id": "U40qqGDZi6nK"
      }
    },
    {
      "cell_type": "markdown",
      "source": [],
      "metadata": {
        "id": "QgydtVC2j55o"
      }
    },
    {
      "cell_type": "markdown",
      "source": [
        "21.What is the significance of the __del__ method in Python?\n",
        "\n",
        "Answer:-__del__ is a destructor method called when an object is about to be destroyed.\n"
      ],
      "metadata": {
        "id": "hg6fIbWtj7mP"
      }
    },
    {
      "cell_type": "markdown",
      "source": [
        "22.What is the difference between @staticmethod and @classmethod in Python?\n",
        "\n",
        "Answer:-@staticmethod doesn't access class or instance. @classmethod accesses the class itself via cls.\n"
      ],
      "metadata": {
        "id": "3T20PiNCj7WO"
      }
    },
    {
      "cell_type": "markdown",
      "source": [
        "23.How does polymorphism work in Python with inheritance?\n",
        "\n",
        "Answer:-Polymorphism in Python allows methods to behave differently based on the object they're called upon, even if they're part of an inheritance structure.\n",
        "\n"
      ],
      "metadata": {
        "id": "qDxQD8K9j69m"
      }
    },
    {
      "cell_type": "markdown",
      "source": [
        "24.What is method chaining in Python OOP?\n",
        "\n",
        "Answer:-Method chaining allows calling multiple methods of an object in a single line by returning self.\n"
      ],
      "metadata": {
        "id": "j6OvZlHHj6Vl"
      }
    },
    {
      "cell_type": "markdown",
      "source": [
        "25.What is the purpose of the __call__ method in Python?\n",
        "\n",
        "Answer:-__call__ makes an instance of a class callable like a function.\n"
      ],
      "metadata": {
        "id": "6MmZdzjukeFu"
      }
    },
    {
      "cell_type": "code",
      "source": [
        "#1.Create a parent class Animal with a method speak() that prints a generic message. Create a child class Dog that overrides the speak() method to print \"Bark!\".\n",
        "\n",
        "class Animal:\n",
        "    def speak(self):\n",
        "        print(\"Some generic animal sound.\")\n",
        "\n",
        "class Dog(Animal):\n",
        "    def speak(self):\n",
        "        print(\"Bark!\")\n",
        "\n",
        "# demo\n",
        "a = Animal()\n",
        "a.speak()\n",
        "d = Dog()\n",
        "d.speak()\n"
      ],
      "metadata": {
        "colab": {
          "base_uri": "https://localhost:8080/"
        },
        "id": "SOSnKP46kkHu",
        "outputId": "30f6e594-fbf3-4866-d84e-f5a0fc6af1ba"
      },
      "execution_count": 3,
      "outputs": [
        {
          "output_type": "stream",
          "name": "stdout",
          "text": [
            "Some generic animal sound.\n",
            "Bark!\n"
          ]
        }
      ]
    },
    {
      "cell_type": "code",
      "source": [
        "#2.Write a program to create an abstract class Shape with a method area(). Derive classes Circle and Rectangle from it and implement the area() method in both.\n",
        "\n",
        "from abc import ABC, abstractmethod\n",
        "import math\n",
        "\n",
        "class Shape(ABC):\n",
        "    @abstractmethod\n",
        "    def area(self):\n",
        "        pass\n",
        "\n",
        "class Circle(Shape):\n",
        "    def __init__(self, radius):\n",
        "        self.radius = radius\n",
        "    def area(self):\n",
        "        return math.pi * self.radius ** 2\n",
        "\n",
        "class Rectangle(Shape):\n",
        "    def __init__(self, width, height):\n",
        "        self.width = width\n",
        "        self.height = height\n",
        "    def area(self):\n",
        "        return self.width * self.height\n",
        "\n",
        "# demo\n",
        "print(Circle(3).area())\n",
        "print(Rectangle(4, 5).area())\n"
      ],
      "metadata": {
        "colab": {
          "base_uri": "https://localhost:8080/"
        },
        "id": "TkqqwBTbkk4U",
        "outputId": "bb8cfca1-88b8-42f1-9eec-034aad68a421"
      },
      "execution_count": 4,
      "outputs": [
        {
          "output_type": "stream",
          "name": "stdout",
          "text": [
            "28.274333882308138\n",
            "20\n"
          ]
        }
      ]
    },
    {
      "cell_type": "code",
      "source": [
        "#3. Implement a multi-level inheritance scenario where a class Vehicle has an attribute type. Derive a class Car and further derive a class ElectricCar that adds a battery attribute.\n",
        "\n",
        "class Vehicle:\n",
        "    def __init__(self, vtype):\n",
        "        self.type = vtype\n",
        "\n",
        "class Car(Vehicle):\n",
        "    def __init__(self, brand, model, vtype=\"Car\"):\n",
        "        super().__init__(vtype)\n",
        "        self.brand = brand\n",
        "        self.model = model\n",
        "\n",
        "class ElectricCar(Car):\n",
        "    def __init__(self, brand, model, battery_kwh):\n",
        "        super().__init__(brand, model)\n",
        "        self.battery_kwh = battery_kwh\n",
        "\n",
        "# demo\n",
        "e = ElectricCar(\"Tesla\", \"Model 3\", 60)\n",
        "print(e.type, e.brand, e.model, e.battery_kwh)\n"
      ],
      "metadata": {
        "colab": {
          "base_uri": "https://localhost:8080/"
        },
        "id": "K81dVsCkkkm2",
        "outputId": "4a4f0cc2-8042-40fa-bfb6-68634e027aa1"
      },
      "execution_count": 5,
      "outputs": [
        {
          "output_type": "stream",
          "name": "stdout",
          "text": [
            "Car Tesla Model 3 60\n"
          ]
        }
      ]
    },
    {
      "cell_type": "code",
      "source": [
        "#4. Demonstrate polymorphism by creating a base class Bird with a method fly(). Create two derived classes Sparrow and Penguin that override the fly() method.\n",
        "\n",
        "class Bird:\n",
        "    def fly(self):\n",
        "        print(\"Bird is flying...\")\n",
        "\n",
        "class Sparrow(Bird):\n",
        "    def fly(self):\n",
        "        print(\"Sparrow soars swiftly!\")\n",
        "\n",
        "class Penguin(Bird):\n",
        "    def fly(self):\n",
        "        print(\"Penguins can't fly; they waddle and swim.\")\n",
        "\n",
        "# demo\n",
        "for b in (Bird(), Sparrow(), Penguin()):\n",
        "    b.fly()\n"
      ],
      "metadata": {
        "colab": {
          "base_uri": "https://localhost:8080/"
        },
        "id": "Q_NzXqB2oo-k",
        "outputId": "30c42812-2bc8-4fd2-de1e-e16990d82146"
      },
      "execution_count": 6,
      "outputs": [
        {
          "output_type": "stream",
          "name": "stdout",
          "text": [
            "Bird is flying...\n",
            "Sparrow soars swiftly!\n",
            "Penguins can't fly; they waddle and swim.\n"
          ]
        }
      ]
    },
    {
      "cell_type": "code",
      "source": [
        "#5.Write a program to demonstrate encapsulation by creating a class BankAccount with private attributes balance and methods to deposit, withdraw, and check balance.\n",
        "\n",
        "class BankAccount:\n",
        "    def __init__(self, starting_balance=0.0):\n",
        "        self.__balance = float(starting_balance)\n",
        "\n",
        "    def deposit(self, amount):\n",
        "        if amount <= 0:\n",
        "            raise ValueError(\"Deposit must be positive.\")\n",
        "        self.__balance += amount\n",
        "\n",
        "    def withdraw(self, amount):\n",
        "        if amount <= 0:\n",
        "            raise ValueError(\"Withdrawal must be positive.\")\n",
        "        if amount > self.__balance:\n",
        "            raise ValueError(\"Insufficient funds.\")\n",
        "        self.__balance -= amount\n",
        "\n",
        "    def check_balance(self):\n",
        "        return self.__balance\n",
        "\n",
        "# demo\n",
        "acct = BankAccount(100)\n",
        "acct.deposit(50)\n",
        "acct.withdraw(30)\n",
        "print(acct.check_balance())\n"
      ],
      "metadata": {
        "colab": {
          "base_uri": "https://localhost:8080/"
        },
        "id": "C5pFuiH4oo7o",
        "outputId": "78d59fa3-9613-4b72-e8b0-1d9b7478f8f5"
      },
      "execution_count": 7,
      "outputs": [
        {
          "output_type": "stream",
          "name": "stdout",
          "text": [
            "120.0\n"
          ]
        }
      ]
    },
    {
      "cell_type": "code",
      "source": [
        "#6.Demonstrate runtime polymorphism using a method play() in a base class Instrument. Derive classes Guitar and Piano that implement their own version of play().\n",
        "\n",
        "class Instrument:\n",
        "    def play(self):\n",
        "        print(\"Playing an instrument.\")\n",
        "\n",
        "class Guitar(Instrument):\n",
        "    def play(self):\n",
        "        print(\"Strum strum on the guitar.\")\n",
        "\n",
        "class Piano(Instrument):\n",
        "    def play(self):\n",
        "        print(\"Plink plonk on the piano.\")\n",
        "\n",
        "# demo\n",
        "for i in (Instrument(), Guitar(), Piano()):\n",
        "    i.play()\n"
      ],
      "metadata": {
        "colab": {
          "base_uri": "https://localhost:8080/"
        },
        "id": "YEx1cIXroo5S",
        "outputId": "710903f6-6fd0-40ea-ed7e-5745f4f48f20"
      },
      "execution_count": 8,
      "outputs": [
        {
          "output_type": "stream",
          "name": "stdout",
          "text": [
            "Playing an instrument.\n",
            "Strum strum on the guitar.\n",
            "Plink plonk on the piano.\n"
          ]
        }
      ]
    },
    {
      "cell_type": "code",
      "source": [
        "#7. Create a class MathOperations with a class method add_numbers() to add two numbers and a static method subtract_numbers() to subtract two numbers.\n",
        "\n",
        "class MathOperations:\n",
        "    @classmethod\n",
        "    def add_numbers(cls, a, b):\n",
        "        return a + b\n",
        "\n",
        "    @staticmethod\n",
        "    def subtract_numbers(a, b):\n",
        "        return a - b\n",
        "\n",
        "# demo\n",
        "print(MathOperations.add_numbers(3, 7))\n",
        "print(MathOperations.subtract_numbers(10, 6))\n"
      ],
      "metadata": {
        "colab": {
          "base_uri": "https://localhost:8080/"
        },
        "id": "xAmzGNwYoo2q",
        "outputId": "7acf995f-59ec-49ed-d338-10a4e99cce5b"
      },
      "execution_count": 9,
      "outputs": [
        {
          "output_type": "stream",
          "name": "stdout",
          "text": [
            "10\n",
            "4\n"
          ]
        }
      ]
    },
    {
      "cell_type": "code",
      "source": [
        "#8. Implement a class Person with a class method to count the total number of persons created.\n",
        "\n",
        "class Person:\n",
        "    _count = 0\n",
        "\n",
        "    def __init__(self, name):\n",
        "        self.name = name\n",
        "        Person._count += 1\n",
        "\n",
        "    @classmethod\n",
        "    def total_persons(cls):\n",
        "        return cls._count\n",
        "\n",
        "# demo\n",
        "a = Person(\"A\")\n",
        "b = Person(\"B\")\n",
        "print(Person.total_persons())\n"
      ],
      "metadata": {
        "colab": {
          "base_uri": "https://localhost:8080/"
        },
        "id": "G_YO0T47oo0H",
        "outputId": "baa8e1a5-94a4-464c-d42d-0e2164df769f"
      },
      "execution_count": 10,
      "outputs": [
        {
          "output_type": "stream",
          "name": "stdout",
          "text": [
            "2\n"
          ]
        }
      ]
    },
    {
      "cell_type": "code",
      "source": [
        "#9.Write a class Fraction with attributes numerator and denominator. Override the str method to display the fraction as \"numerator/denominator\".\n",
        "\n",
        "class Fraction:\n",
        "    def __init__(self, numerator, denominator):\n",
        "        if denominator == 0:\n",
        "            raise ValueError(\"Denominator cannot be zero.\")\n",
        "        self.numerator = numerator\n",
        "        self.denominator = denominator\n",
        "\n",
        "    def __str__(self):\n",
        "        return f\"{self.numerator}/{self.denominator}\"\n",
        "\n",
        "# demo\n",
        "print(Fraction(3, 5))\n"
      ],
      "metadata": {
        "colab": {
          "base_uri": "https://localhost:8080/"
        },
        "id": "X6Qhcecoooxd",
        "outputId": "a620cd4b-3c55-4f19-ba92-8d9d120e5752"
      },
      "execution_count": 11,
      "outputs": [
        {
          "output_type": "stream",
          "name": "stdout",
          "text": [
            "3/5\n"
          ]
        }
      ]
    },
    {
      "cell_type": "code",
      "source": [
        "#10. Demonstrate operator overloading by creating a class Vector and overriding the add method to add two vectors.\n",
        "\n",
        "class Vector:\n",
        "    def __init__(self, *coords):\n",
        "        self.coords = coords\n",
        "\n",
        "    def __add__(self, other):\n",
        "        if len(self.coords) != len(other.coords):\n",
        "            raise ValueError(\"Vectors must be same dimension.\")\n",
        "        return Vector(*[a + b for a, b in zip(self.coords, other.coords)])\n",
        "\n",
        "    def __repr__(self):\n",
        "        return f\"Vector{self.coords}\"\n",
        "\n",
        "# demo\n",
        "v1 = Vector(1, 2, 3)\n",
        "v2 = Vector(4, 5, 6)\n",
        "print(v1 + v2)\n"
      ],
      "metadata": {
        "colab": {
          "base_uri": "https://localhost:8080/"
        },
        "id": "ftpMbIyVoouo",
        "outputId": "3d29d99c-0484-4643-deed-46e8f0195ee3"
      },
      "execution_count": 12,
      "outputs": [
        {
          "output_type": "stream",
          "name": "stdout",
          "text": [
            "Vector(5, 7, 9)\n"
          ]
        }
      ]
    },
    {
      "cell_type": "code",
      "source": [
        "#11. Create a class Person with attributes name and age. Add a method greet() that prints \"Hello, my name is {name} and I am {age} years old.\"\n",
        "\n",
        "class Person:\n",
        "    def __init__(self, name, age):\n",
        "        self.name = name\n",
        "        self.age = age\n",
        "    def greet(self):\n",
        "        return f\"Hello, my name is {self.name} and I am {self.age} years old.\"\n",
        "\n",
        "# demo\n",
        "print(Person(\"Kai\", 21).greet())\n"
      ],
      "metadata": {
        "colab": {
          "base_uri": "https://localhost:8080/"
        },
        "id": "vYUmerIzoosI",
        "outputId": "d7697de3-d661-43d0-e5cc-31fd1ebccc8c"
      },
      "execution_count": 13,
      "outputs": [
        {
          "output_type": "stream",
          "name": "stdout",
          "text": [
            "Hello, my name is Kai and I am 21 years old.\n"
          ]
        }
      ]
    },
    {
      "cell_type": "code",
      "source": [
        "#12. Implement a class Student with attributes name and grades. Create a method average_grade() to compute the average of the grades.\n",
        "\n",
        "class Student:\n",
        "    def __init__(self, name, grades):\n",
        "        self.name = name\n",
        "        self.grades = grades\n",
        "\n",
        "    def average_grade(self):\n",
        "        return sum(self.grades) / len(self.grades) if self.grades else 0\n",
        "\n",
        "# demo\n",
        "print(Student(\"Mia\", [90, 80, 100]).average_grade())\n"
      ],
      "metadata": {
        "colab": {
          "base_uri": "https://localhost:8080/"
        },
        "id": "NeDXCN-ioope",
        "outputId": "707816e3-9988-4364-c6c0-a411482de299"
      },
      "execution_count": 14,
      "outputs": [
        {
          "output_type": "stream",
          "name": "stdout",
          "text": [
            "90.0\n"
          ]
        }
      ]
    },
    {
      "cell_type": "code",
      "source": [
        "#13. Create a class Rectangle with methods set_dimensions() to set the dimensions and area() to calculate the area.\n",
        "\n",
        "class Rectangle:\n",
        "    def __init__(self, width=0, height=0):\n",
        "        self.width = width\n",
        "        self.height = height\n",
        "\n",
        "    def set_dimensions(self, width, height):\n",
        "        self.width = width\n",
        "        self.height = height\n",
        "\n",
        "    def area(self):\n",
        "        return self.width * self.height\n",
        "\n",
        "# demo\n",
        "r = Rectangle()\n",
        "r.set_dimensions(7, 3)\n",
        "print(r.area())\n"
      ],
      "metadata": {
        "colab": {
          "base_uri": "https://localhost:8080/"
        },
        "id": "WV1qMINmoonC",
        "outputId": "e11aac71-7206-41f8-f24c-87968ef0fcfa"
      },
      "execution_count": 15,
      "outputs": [
        {
          "output_type": "stream",
          "name": "stdout",
          "text": [
            "21\n"
          ]
        }
      ]
    },
    {
      "cell_type": "code",
      "source": [
        "#14. Create a class Employee with a method calculate_salary() that computes the salary based on hours worked and hourly rate. Create a derived class Manager that adds a bonus to the salary.\n",
        "\n",
        "class Employee:\n",
        "    def __init__(self, hours_worked, hourly_rate):\n",
        "        self.hours_worked = hours_worked\n",
        "        self.hourly_rate = hourly_rate\n",
        "\n",
        "    def calculate_salary(self):\n",
        "        return self.hours_worked * self.hourly_rate\n",
        "\n",
        "class Manager(Employee):\n",
        "    def __init__(self, hours_worked, hourly_rate, bonus):\n",
        "        super().__init__(hours_worked, hourly_rate)\n",
        "        self.bonus = bonus\n",
        "\n",
        "    def calculate_salary(self):\n",
        "        return super().calculate_salary() + self.bonus\n",
        "\n",
        "# demo\n",
        "print(Employee(40, 20).calculate_salary())\n",
        "print(Manager(40, 20, 500).calculate_salary())\n"
      ],
      "metadata": {
        "colab": {
          "base_uri": "https://localhost:8080/"
        },
        "id": "3onjVzTwookv",
        "outputId": "62d6c5b1-3d56-4a45-aa29-b9a7de0d55bd"
      },
      "execution_count": 16,
      "outputs": [
        {
          "output_type": "stream",
          "name": "stdout",
          "text": [
            "800\n",
            "1300\n"
          ]
        }
      ]
    },
    {
      "cell_type": "code",
      "source": [
        "#15.Create a class Product with attributes name, price, and quantity. Implement a method total_price() that calculates the total price of the product.\n",
        "\n",
        "class Product:\n",
        "    def __init__(self, name, price, quantity):\n",
        "        self.name = name\n",
        "        self.price = price\n",
        "        self.quantity = quantity\n",
        "\n",
        "    def total_price(self):\n",
        "        return self.price * self.quantity\n",
        "\n",
        "# demo\n",
        "print(Product(\"Pen\", 2.5, 12).total_price())\n"
      ],
      "metadata": {
        "colab": {
          "base_uri": "https://localhost:8080/"
        },
        "id": "_gsz12w0oohU",
        "outputId": "3aeb35c2-0adc-4507-f299-3193ed624e9f"
      },
      "execution_count": 17,
      "outputs": [
        {
          "output_type": "stream",
          "name": "stdout",
          "text": [
            "30.0\n"
          ]
        }
      ]
    },
    {
      "cell_type": "code",
      "source": [
        "#16. Create a class Animal with an abstract method sound(). Create two derived classes Cow and Sheep that implement the sound() method.\n",
        "\n",
        "from abc import ABC, abstractmethod\n",
        "\n",
        "class Animal(ABC):\n",
        "    @abstractmethod\n",
        "    def sound(self):\n",
        "        pass\n",
        "\n",
        "class Cow(Animal):\n",
        "    def sound(self):\n",
        "        return \"Moo\"\n",
        "\n",
        "class Sheep(Animal):\n",
        "    def sound(self):\n",
        "        return \"Baa\"\n",
        "\n",
        "# demo\n",
        "print(Cow().sound())\n",
        "print(Sheep().sound())\n"
      ],
      "metadata": {
        "colab": {
          "base_uri": "https://localhost:8080/"
        },
        "id": "Y3guSmfuooeq",
        "outputId": "530e29e2-8a40-48b3-d1bc-b2383ef1a7b6"
      },
      "execution_count": 18,
      "outputs": [
        {
          "output_type": "stream",
          "name": "stdout",
          "text": [
            "Moo\n",
            "Baa\n"
          ]
        }
      ]
    },
    {
      "cell_type": "code",
      "source": [
        "#17. Create a class Book with attributes title, author, and year_published. Add a method get_book_info() tha returns a formatted string with the book's details.\n",
        "\n",
        "class Book:\n",
        "    def __init__(self, title, author, year_published):\n",
        "        self.title = title\n",
        "        self.author = author\n",
        "        self.year_published = year_published\n",
        "\n",
        "    def get_book_info(self):\n",
        "        return f\"'{self.title}' by {self.author} ({self.year_published})\"\n",
        "\n",
        "# demo\n",
        "print(Book(\"1984\", \"George Orwell\", 1949).get_book_info())\n"
      ],
      "metadata": {
        "colab": {
          "base_uri": "https://localhost:8080/"
        },
        "id": "6d8PhLs_ooby",
        "outputId": "04ec28f6-7e9c-4a45-c61a-c2679785141a"
      },
      "execution_count": 19,
      "outputs": [
        {
          "output_type": "stream",
          "name": "stdout",
          "text": [
            "'1984' by George Orwell (1949)\n"
          ]
        }
      ]
    },
    {
      "cell_type": "code",
      "source": [
        "#18. Create a class House with attributes address and price. Create a derived class Mansion that adds an attribute number_of_rooms.\n",
        "\n",
        "class House:\n",
        "    def __init__(self, address, price):\n",
        "        self.address = address\n",
        "        self.price = price\n",
        "\n",
        "class Mansion(House):\n",
        "    def __init__(self, address, price, number_of_rooms):\n",
        "        super().__init__(address, price)\n",
        "        self.number_of_rooms = number_of_rooms\n",
        "\n",
        "# demo\n",
        "m = Mansion(\"1 Ocean Ave\", 3_000_000, 12)\n",
        "print(m.address, m.price, m.number_of_rooms)\n"
      ],
      "metadata": {
        "colab": {
          "base_uri": "https://localhost:8080/"
        },
        "id": "AcHdduv8ooZJ",
        "outputId": "96c5ae3f-ccfa-4e28-f995-23a5a00259f5"
      },
      "execution_count": 20,
      "outputs": [
        {
          "output_type": "stream",
          "name": "stdout",
          "text": [
            "1 Ocean Ave 3000000 12\n"
          ]
        }
      ]
    },
    {
      "cell_type": "code",
      "source": [],
      "metadata": {
        "id": "No_bikEpooWo"
      },
      "execution_count": null,
      "outputs": []
    },
    {
      "cell_type": "code",
      "source": [],
      "metadata": {
        "id": "OLda2yBXooT0"
      },
      "execution_count": null,
      "outputs": []
    },
    {
      "cell_type": "code",
      "source": [],
      "metadata": {
        "id": "P5r7tXavooRK"
      },
      "execution_count": null,
      "outputs": []
    },
    {
      "cell_type": "code",
      "source": [],
      "metadata": {
        "id": "GXlVun6tooL3"
      },
      "execution_count": null,
      "outputs": []
    }
  ]
}