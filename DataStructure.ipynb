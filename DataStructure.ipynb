{
  "nbformat": 4,
  "nbformat_minor": 0,
  "metadata": {
    "colab": {
      "provenance": [],
      "authorship_tag": "ABX9TyOFKX2REtNL6dMbsiix/7k8",
      "include_colab_link": true
    },
    "kernelspec": {
      "name": "python3",
      "display_name": "Python 3"
    },
    "language_info": {
      "name": "python"
    }
  },
  "cells": [
    {
      "cell_type": "markdown",
      "metadata": {
        "id": "view-in-github",
        "colab_type": "text"
      },
      "source": [
        "<a href=\"https://colab.research.google.com/github/ankit221814/PYTHON/blob/main/DataStructure.ipynb\" target=\"_parent\"><img src=\"https://colab.research.google.com/assets/colab-badge.svg\" alt=\"Open In Colab\"/></a>"
      ]
    },
    {
      "cell_type": "markdown",
      "source": [
        "1.What are data structure, and why are they importtant?\n",
        "\n",
        "Answer:- Data structure are way of organizing  and storing data in a computer so that it can be accessed and modified efficiently.They are important because they unable us to manage and manipulate data in logical and organized manner,which is crucial for building efficient and scalable software."
      ],
      "metadata": {
        "id": "ft7ynKs5vztl"
      }
    },
    {
      "cell_type": "markdown",
      "source": [
        "2.Explain the difference between mutable and immutable data types with example?\n",
        "\n",
        "Answer:-Mutable - The value of a mutable object can be changed after it is created.Example,lists,dictionaries, and sets.\n",
        "Immutable - The value of an immutable object cannot be changed after it is created.Examples- integer,float,strings,and tuples."
      ],
      "metadata": {
        "id": "LG0v0nLUvoL7"
      }
    },
    {
      "cell_type": "markdown",
      "source": [
        "3.What are main difference between lists and tuples in python?\n",
        "\n",
        "Answer:- Lists are mutable while tuples are immutable.\n",
        "\n",
        "Lists are created using square bracket while tuples are created using parentheses.\n",
        "\n",
        "Tuples are generally faster than lists because of their immutability.\n",
        "\n"
      ],
      "metadata": {
        "id": "hZ1WBGuQvsCP"
      }
    },
    {
      "cell_type": "markdown",
      "source": [
        "4.Describe hoe dictionaries store data.\n",
        "\n",
        "Answer:- Dictionaries store data in key value pairs.Each key is unique and is used to access its corresponding value.The keys must be of an immutable type ,while the values can be of any data type.The key value pairs are stored in a hash table,which allows for very fast lookups."
      ],
      "metadata": {
        "id": "zZYz9H5Yvnkm"
      }
    },
    {
      "cell_type": "markdown",
      "source": [
        "5.Why might you use a set instead of a list in python?\n",
        "\n",
        "Answer:-When you need to store a collection of unique items.Sets automatically handle duplicate removal.\n",
        "You need to perform fast membership testing,and to perform mathematical set operations like union,intersection,and difference."
      ],
      "metadata": {
        "id": "RSrhoYxvvwoG"
      }
    },
    {
      "cell_type": "markdown",
      "source": [
        "6.What is a string in python ,and how is it different from a list?\n",
        "\n",
        "Answer:-A string is sequence of character,while a list can obtain items of any data type.A string is immutable ,while a list is mutable.\n",
        "Strings are created using single or double quotes, while lists are created using square brackets."
      ],
      "metadata": {
        "id": "vkJ6NPCPvwlK"
      }
    },
    {
      "cell_type": "markdown",
      "source": [
        "7.How to tuples ensure data inegrity in Python?\n",
        "\n",
        "Answer:-Tuples ensure data integrity because they are immutable.Once a tuple is created,its element cannot be changed,added or removed.This prevent accidental modification of the data,which is useful for storing data that should remain constant."
      ],
      "metadata": {
        "id": "Okz4LsmyvwiT"
      }
    },
    {
      "cell_type": "markdown",
      "source": [
        "8.What is hash table,and how does it relate to dictionaries in Python?\n",
        "\n",
        "Answer:-A hash table is a data structure that maps keys to values.It uses a hash function to compute an index into  an array of buckets or slots,from which the desired values can be found."
      ],
      "metadata": {
        "id": "Yz8O9rgJvwfu"
      }
    },
    {
      "cell_type": "markdown",
      "source": [
        "9.Can Lists contain different data tupes in Python?\n",
        "\n",
        "Answer:- Yes,lists can obtain different data types.For example,a single list can contain an integer, a string,a float,and even another list."
      ],
      "metadata": {
        "id": "SnTjfhkfvwdI"
      }
    },
    {
      "cell_type": "markdown",
      "source": [
        "10.Explain why strings are immutable in Python.\n",
        "\n",
        "Answer:- Strings are immutable in python for several reasons:\n",
        "Efficiency-Immutablity can lead to performance optimization,especially in memory management.\n",
        "\n",
        "Security- It prevents accidental modification of string values,which is important when strings are used as keys in dictionaries or as part of a system's core functionality."
      ],
      "metadata": {
        "id": "SdAAZkX0vwUY"
      }
    },
    {
      "cell_type": "markdown",
      "source": [
        "11.What advantages do dictionaries offer over lists for certain tasks?\n",
        "\n",
        "Answer:-Ouick access: Find an item instantly using its label(key)\n",
        "\n",
        "easy to read : keys like 'name' and 'age' make the data clear.\n",
        "\n",
        "Organized data : great for storing related infromation together."
      ],
      "metadata": {
        "id": "zVi4pZmtvwRM"
      }
    },
    {
      "cell_type": "markdown",
      "source": [],
      "metadata": {
        "id": "i5zw96bWvwOk"
      }
    },
    {
      "cell_type": "markdown",
      "source": [
        "12.Describe a scenario where using a tuple would preferable over a list.\n",
        "\n",
        "Answer:- A tuple would be preferable over a list when you need to store a fixed collection of related items that should not be changed."
      ],
      "metadata": {
        "id": "jDEnUOxOvwL5"
      }
    },
    {
      "cell_type": "markdown",
      "source": [
        "13.How do sets handle duplicate values in Python?\n",
        "\n",
        "Answer:- Sets automatically handle duplicate values by storing onlyone instance of each unique item.If you try to add an item that already exists in a set,the set will simply ignore the addition without raising an error.This is one of the primary feature of a set."
      ],
      "metadata": {
        "id": "gBj-oQrMvwIt"
      }
    },
    {
      "cell_type": "markdown",
      "source": [
        "14.How does the 'in' keyword work differently for lists and dictionaries.\n",
        "\n",
        "Answer:-For lists the 'in' keyword checks for the presence of an element within the list's values.\n",
        "\n",
        "For Dictionaries the 'in' keyword checks for the presence of a key within the dictionary's keys.It uses the dictionary's hash table implementation,"
      ],
      "metadata": {
        "id": "qka0x_1_vwFf"
      }
    },
    {
      "cell_type": "markdown",
      "source": [
        "15.Can you modify the element of tuple?Explain why or why not.\n",
        "\n",
        "Ans:- No,you cannot modify the elements of a tuple.This is because tuples are immutable .The immutability of tuples is a core design choice that ensures data integrity and allows for certain performance optimization."
      ],
      "metadata": {
        "id": "LvlHe72WvwCD"
      }
    },
    {
      "cell_type": "markdown",
      "source": [
        "16.What is a nested dictionary,and give an example of its use case\n",
        "\n",
        "Answer:-A nested dictionary is a dictionary where the values are themeselves dictionaries.A comman use  case is to present hierarchical or structured data.\n"
      ],
      "metadata": {
        "id": "VXINk7hLvv6b"
      }
    },
    {
      "cell_type": "code",
      "source": [
        "#nested dictionary example\n",
        "myfamily = {\n",
        "    \"child1\": {\"name\": \"Emil\", \"year\": 2004},\n",
        "    \"child2\": {\"name\": \"Tobias\", \"year\": 2007},\n",
        "    \"child3\": {\"name\": \"Linus\", \"year\": 2011}\n",
        "}"
      ],
      "metadata": {
        "id": "1XWi1DTjNRPm"
      },
      "execution_count": 3,
      "outputs": []
    },
    {
      "cell_type": "markdown",
      "source": [
        "17.Describe the time complexity of accessing elements in a dictionary.\n",
        "\n",
        "Answee:- The average-case time complexity for accessing alement in a dictionaryis O(1).In the worst-case scenario it can degrade to O(n),but this is rare in practice."
      ],
      "metadata": {
        "id": "SgP1JEMtvvuV"
      }
    },
    {
      "cell_type": "markdown",
      "source": [
        "18.In what situation are lists preferred over dictionaries?\n",
        "\n",
        "Answer:-The oreder of the element is important.\n",
        "\n",
        "You need to store a collection of items that can contain duplicates.\n",
        "\n",
        "You need to access elements by their integer index.\n",
        "\n",
        "The data does not have a natural key-value relationship."
      ],
      "metadata": {
        "id": "d81jahMcOEb_"
      }
    },
    {
      "cell_type": "markdown",
      "source": [
        "19.Why does dictionaries considered unordered,and how does that affect data retrieval?\n",
        "\n",
        "Answer:-Because they are typically implemented using hash table,a data structure that prioritize quick retrieval of data over maintaning a specific order."
      ],
      "metadata": {
        "id": "-vSY7hQXOEY0"
      }
    },
    {
      "cell_type": "markdown",
      "source": [
        "20.Explain the difference between a list and a dictionary in term of data retrieval.\n",
        "\n",
        "Answer:-In lists data retrieval is based on an integr index.To retrieve an element you must know its position.\n",
        "In dictionaries data retrieval is based on aunique ,immutable key.to retrieve a value you must know  its key."
      ],
      "metadata": {
        "id": "_liaYTqYOEWF"
      }
    },
    {
      "cell_type": "code",
      "source": [
        "#1.Write a code to create a string with your name and print it.\n",
        "\n",
        "my_name = \"Ankit Kumar\"\n",
        "print(my_name)\n"
      ],
      "metadata": {
        "colab": {
          "base_uri": "https://localhost:8080/"
        },
        "id": "-PAbnsFPnAd2",
        "outputId": "6d8c7099-52ff-4616-b310-d4e4b16552d3"
      },
      "execution_count": 5,
      "outputs": [
        {
          "output_type": "stream",
          "name": "stdout",
          "text": [
            "Ankit Kumar\n"
          ]
        }
      ]
    },
    {
      "cell_type": "code",
      "source": [
        "#2.Write a code to find the length of the string \"Hello World\".\n",
        "\n",
        "my_string = \"Hello World\"\n",
        "length = len(my_string)\n",
        "print(\"The length of the string is:\", length)\n"
      ],
      "metadata": {
        "colab": {
          "base_uri": "https://localhost:8080/"
        },
        "id": "g7rZ9BKURRup",
        "outputId": "e96d5e25-1f66-4697-e7c4-c30bc614697f"
      },
      "execution_count": 7,
      "outputs": [
        {
          "output_type": "stream",
          "name": "stdout",
          "text": [
            "The length of the string is: 11\n"
          ]
        }
      ]
    },
    {
      "cell_type": "code",
      "source": [
        "#3.Write a code to slice the first 3 character from the string \"Python Programming\".\n",
        "\n",
        "my_string = \"Python Programming\"\n",
        "\n",
        "first_three = my_string[:3]\n",
        "print(first_three)\n"
      ],
      "metadata": {
        "colab": {
          "base_uri": "https://localhost:8080/"
        },
        "id": "BhciZm3vR-o0",
        "outputId": "df8c96eb-b754-4299-f4de-d09574fc8503"
      },
      "execution_count": 8,
      "outputs": [
        {
          "output_type": "stream",
          "name": "stdout",
          "text": [
            "Pyt\n"
          ]
        }
      ]
    },
    {
      "cell_type": "code",
      "source": [
        "#4. Write a code to convert the string \"hello\" to uppercase.\n",
        "s = \"hello\"\n",
        "print(s.upper())"
      ],
      "metadata": {
        "colab": {
          "base_uri": "https://localhost:8080/"
        },
        "id": "v4X3H1ncSuIF",
        "outputId": "4b8130c7-f364-4a61-cf43-5248911f2076"
      },
      "execution_count": 9,
      "outputs": [
        {
          "output_type": "stream",
          "name": "stdout",
          "text": [
            "HELLO\n"
          ]
        }
      ]
    },
    {
      "cell_type": "code",
      "source": [
        "#5.Write a code to replace the word \"apple\" with \"orange\" in the string \"I like apple\".\n",
        "s = \"I like apple\"\n",
        "print(s.replace(\"apple\", \"orange\"))"
      ],
      "metadata": {
        "colab": {
          "base_uri": "https://localhost:8080/"
        },
        "id": "9y_Ss58BULrr",
        "outputId": "a07dce1a-b9f8-45c0-a373-f819fdfa234c"
      },
      "execution_count": 11,
      "outputs": [
        {
          "output_type": "stream",
          "name": "stdout",
          "text": [
            "I like orange\n"
          ]
        }
      ]
    },
    {
      "cell_type": "code",
      "source": [
        "#6. Write a code to create a list with numbers 1 to 5 and print it.\n",
        "\n",
        "numbers = [1, 2, 3, 4, 5]\n",
        "print(numbers)"
      ],
      "metadata": {
        "colab": {
          "base_uri": "https://localhost:8080/"
        },
        "id": "TZJ56lELUR99",
        "outputId": "97a3c8ac-005a-4bcb-b561-987f74162286"
      },
      "execution_count": 13,
      "outputs": [
        {
          "output_type": "stream",
          "name": "stdout",
          "text": [
            "[1, 2, 3, 4, 5]\n"
          ]
        }
      ]
    },
    {
      "cell_type": "code",
      "source": [
        "#7Write a code to append the number 10 to the list [1, 2, 3, 4].\n",
        "numbers = [1, 2, 3, 4]\n",
        "numbers.append(10)\n",
        "print(numbers)"
      ],
      "metadata": {
        "colab": {
          "base_uri": "https://localhost:8080/"
        },
        "id": "rXSLxJ3hUclF",
        "outputId": "bc0b7462-87dc-4b74-e78f-15dc32e4d0c1"
      },
      "execution_count": 19,
      "outputs": [
        {
          "output_type": "stream",
          "name": "stdout",
          "text": [
            "[1, 2, 3, 4, 10]\n"
          ]
        }
      ]
    },
    {
      "cell_type": "code",
      "source": [
        "#8 Write a code to remove the number 3 from the list [1, 2, 3, 4, 5].\n",
        "numbers = [1, 2, 3, 4, 5]\n",
        "numbers.remove(3)\n",
        "print(numbers)"
      ],
      "metadata": {
        "colab": {
          "base_uri": "https://localhost:8080/"
        },
        "id": "IRro8NHlUjzj",
        "outputId": "189f4aa3-f685-4a75-c1a6-3c9a391fd67b"
      },
      "execution_count": 20,
      "outputs": [
        {
          "output_type": "stream",
          "name": "stdout",
          "text": [
            "[1, 2, 4, 5]\n"
          ]
        }
      ]
    },
    {
      "cell_type": "code",
      "source": [
        "#9Write a code to access the second element in the list ['a', 'b', 'c', 'd'].\n",
        "letters = ['a', 'b', 'c', 'd']\n",
        "print(letters[1])"
      ],
      "metadata": {
        "colab": {
          "base_uri": "https://localhost:8080/"
        },
        "id": "32O8OFY5UmMf",
        "outputId": "aa5adc61-d115-4d13-efef-bd2b0961e943"
      },
      "execution_count": 21,
      "outputs": [
        {
          "output_type": "stream",
          "name": "stdout",
          "text": [
            "b\n"
          ]
        }
      ]
    },
    {
      "cell_type": "code",
      "source": [
        "#10 Write a code to reverse the list [10, 20, 30, 40, 50]\n",
        "numbers = [10, 20, 30, 40, 50]\n",
        "numbers.reverse()\n",
        "print(numbers)"
      ],
      "metadata": {
        "colab": {
          "base_uri": "https://localhost:8080/"
        },
        "id": "8NpNFI9zUmJH",
        "outputId": "da89f700-4518-4373-8e3a-85eaa5da85cb"
      },
      "execution_count": 22,
      "outputs": [
        {
          "output_type": "stream",
          "name": "stdout",
          "text": [
            "[50, 40, 30, 20, 10]\n"
          ]
        }
      ]
    },
    {
      "cell_type": "code",
      "source": [
        "#11Write a code to create a tuple with the elements 100, 200, 300 and print it.\n",
        "t = (100, 200, 300)\n",
        "print(t)"
      ],
      "metadata": {
        "colab": {
          "base_uri": "https://localhost:8080/"
        },
        "id": "S6yGfu6yUmGs",
        "outputId": "def236c4-a813-4127-c381-93a0fd6d1d5e"
      },
      "execution_count": 23,
      "outputs": [
        {
          "output_type": "stream",
          "name": "stdout",
          "text": [
            "(100, 200, 300)\n"
          ]
        }
      ]
    },
    {
      "cell_type": "code",
      "source": [
        "#12 Write a code to access the second-to-last element of the tuple ('red', 'green', 'blue').\n",
        "colors = ('red', 'green', 'blue')\n",
        "print(colors[-2])"
      ],
      "metadata": {
        "colab": {
          "base_uri": "https://localhost:8080/"
        },
        "id": "tIGr28SfUmEP",
        "outputId": "b3278815-6774-4170-b3da-c24ebed19c3f"
      },
      "execution_count": 24,
      "outputs": [
        {
          "output_type": "stream",
          "name": "stdout",
          "text": [
            "green\n"
          ]
        }
      ]
    },
    {
      "cell_type": "code",
      "source": [
        "#13Write a code to find the minimum number in the tuple (10, 20, 5, 15).\n",
        "t = (10, 20, 5, 15)\n",
        "print(min(t))"
      ],
      "metadata": {
        "colab": {
          "base_uri": "https://localhost:8080/"
        },
        "id": "dL_t7HFkUmBw",
        "outputId": "39bcd7d4-f51b-4213-c52b-54e5c50e34ca"
      },
      "execution_count": 25,
      "outputs": [
        {
          "output_type": "stream",
          "name": "stdout",
          "text": [
            "5\n"
          ]
        }
      ]
    },
    {
      "cell_type": "code",
      "source": [
        "#14Write a code to find the index of the element 'cat' in the tuple ('dog', 'cat', 'rabbit').\n",
        "t = ('dog', 'cat', 'rabbit')\n",
        "print(t.index('cat'))"
      ],
      "metadata": {
        "colab": {
          "base_uri": "https://localhost:8080/"
        },
        "id": "z4ewfHDaUl_y",
        "outputId": "73f42563-c4db-47db-b25b-811077ce9191"
      },
      "execution_count": 26,
      "outputs": [
        {
          "output_type": "stream",
          "name": "stdout",
          "text": [
            "1\n"
          ]
        }
      ]
    },
    {
      "cell_type": "code",
      "source": [
        "#15Write a code to create a tuple containing three different fruits and check if 'kiwi' is in it.\n",
        "fruits = ('apple', 'banana', 'orange')\n",
        "print('kiwi' in fruits)"
      ],
      "metadata": {
        "colab": {
          "base_uri": "https://localhost:8080/"
        },
        "id": "H87TMiYhUl8B",
        "outputId": "5dc6d8cb-b8ef-44a3-fdf0-3293d690104b"
      },
      "execution_count": 29,
      "outputs": [
        {
          "output_type": "stream",
          "name": "stdout",
          "text": [
            "False\n"
          ]
        }
      ]
    },
    {
      "cell_type": "code",
      "source": [
        "#16Write a code to create a set with the elements 'a', 'b', 'c' and print it.\n",
        "my_set = {'a', 'b', 'c'}\n",
        "print(my_set)"
      ],
      "metadata": {
        "colab": {
          "base_uri": "https://localhost:8080/"
        },
        "id": "fbghJmXsUl5C",
        "outputId": "f3d27986-14bd-48fc-9216-4860e86d0b31"
      },
      "execution_count": 28,
      "outputs": [
        {
          "output_type": "stream",
          "name": "stdout",
          "text": [
            "{'b', 'c', 'a'}\n"
          ]
        }
      ]
    },
    {
      "cell_type": "code",
      "source": [
        "#17 Write a code to clear all elements from the set {1, 2, 3, 4, 5}.\n",
        "my_set = {1, 2, 3, 4, 5}\n",
        "my_set.clear()\n",
        "print(my_set)"
      ],
      "metadata": {
        "colab": {
          "base_uri": "https://localhost:8080/"
        },
        "id": "MRHaiFw0Ul2T",
        "outputId": "1b573157-9228-4b21-a677-c6ebcaba964b"
      },
      "execution_count": 30,
      "outputs": [
        {
          "output_type": "stream",
          "name": "stdout",
          "text": [
            "set()\n"
          ]
        }
      ]
    },
    {
      "cell_type": "code",
      "source": [
        "#18  Write a code to remove the element 4 from the set {1, 2, 3, 4}.\n",
        "my_set = {1, 2, 3, 4}\n",
        "my_set.remove(4)\n",
        "print(my_set)"
      ],
      "metadata": {
        "colab": {
          "base_uri": "https://localhost:8080/"
        },
        "id": "ZlH0q5PoUlzx",
        "outputId": "321377f9-8135-4e3b-9c27-da40267437f8"
      },
      "execution_count": 31,
      "outputs": [
        {
          "output_type": "stream",
          "name": "stdout",
          "text": [
            "{1, 2, 3}\n"
          ]
        }
      ]
    },
    {
      "cell_type": "code",
      "source": [
        "#19Write a code to find the union of two sets {1, 2, 3} and {3, 4, 5}.\n",
        "set1 = {1, 2, 3}\n",
        "set2 = {3, 4, 5}\n",
        "print(set1.union(set2))"
      ],
      "metadata": {
        "colab": {
          "base_uri": "https://localhost:8080/"
        },
        "id": "2AAVkphsUlwt",
        "outputId": "ec1610c9-b103-4b85-e621-f892670cbeaf"
      },
      "execution_count": 32,
      "outputs": [
        {
          "output_type": "stream",
          "name": "stdout",
          "text": [
            "{1, 2, 3, 4, 5}\n"
          ]
        }
      ]
    },
    {
      "cell_type": "code",
      "source": [
        "#20 Write a code to find the intersection of two sets {1, 2, 3} and {2, 3, 4}.\n",
        "set1 = {1, 2, 3}\n",
        "set2 = {2, 3, 4}\n",
        "print(set1.intersection(set2))"
      ],
      "metadata": {
        "colab": {
          "base_uri": "https://localhost:8080/"
        },
        "id": "X7hKHpUJUlt5",
        "outputId": "8a0ffbdd-bc9f-4974-bf62-b9829e002ef0"
      },
      "execution_count": 33,
      "outputs": [
        {
          "output_type": "stream",
          "name": "stdout",
          "text": [
            "{2, 3}\n"
          ]
        }
      ]
    },
    {
      "cell_type": "code",
      "source": [
        "#21Write a code to create a dictionary with the keys 'name', 'age', and 'city', and print it.\n",
        "my_dict = {'name': 'John', 'age': 30, 'city': 'New York'}\n",
        "print(my_dict)"
      ],
      "metadata": {
        "colab": {
          "base_uri": "https://localhost:8080/"
        },
        "id": "fqYqkNbVUlrO",
        "outputId": "7ff0f1df-de01-4299-ca85-e889da007555"
      },
      "execution_count": 34,
      "outputs": [
        {
          "output_type": "stream",
          "name": "stdout",
          "text": [
            "{'name': 'John', 'age': 30, 'city': 'New York'}\n"
          ]
        }
      ]
    },
    {
      "cell_type": "code",
      "source": [
        "#22 Write a code my_dict = {'name': 'John', 'age': 25}\n",
        "my_dict = {'name': 'John', 'age': 25}\n",
        "my_dict['country'] = 'USA'\n",
        "print(my_dict)\n"
      ],
      "metadata": {
        "colab": {
          "base_uri": "https://localhost:8080/"
        },
        "id": "_dhvowwPUloH",
        "outputId": "1a6fb1ba-ef8e-46f7-e767-7bc35d834638"
      },
      "execution_count": 36,
      "outputs": [
        {
          "output_type": "stream",
          "name": "stdout",
          "text": [
            "{'name': 'John', 'age': 25, 'country': 'USA'}\n"
          ]
        }
      ]
    },
    {
      "cell_type": "code",
      "source": [
        "#23Write a code to access the value associated with the key 'name' in the dictionary {'name': 'Alice', 'age': 30}.\n",
        "my_dict = {'name': 'Alice', 'age': 30}\n",
        "print(my_dict['name'])"
      ],
      "metadata": {
        "colab": {
          "base_uri": "https://localhost:8080/"
        },
        "id": "dDBd_qgyUllt",
        "outputId": "9bd226a3-82a0-42fa-9cda-63bd81ee71eb"
      },
      "execution_count": 37,
      "outputs": [
        {
          "output_type": "stream",
          "name": "stdout",
          "text": [
            "Alice\n"
          ]
        }
      ]
    },
    {
      "cell_type": "code",
      "source": [
        "#24Write a code to remove the key 'age' from the dictionary {'name': 'Bob', 'age': 22, 'city': 'New York'}\n",
        "my_dict = {'name': 'Bob', 'age': 22, 'city': 'New York'}\n",
        "del my_dict['age']\n",
        "print(my_dict)"
      ],
      "metadata": {
        "colab": {
          "base_uri": "https://localhost:8080/"
        },
        "id": "2YT_j6wmUljF",
        "outputId": "2a256497-a3a8-45a2-ad0b-d8a7279312f4"
      },
      "execution_count": 38,
      "outputs": [
        {
          "output_type": "stream",
          "name": "stdout",
          "text": [
            "{'name': 'Bob', 'city': 'New York'}\n"
          ]
        }
      ]
    },
    {
      "cell_type": "code",
      "source": [
        "#25 Write a code to check if the key 'city' exists in the dictionary {'name': 'Alice', 'city': 'Paris'}.\n",
        "my_dict = {'name': 'Alice', 'city': 'Paris'}\n",
        "print('city' in my_dict)"
      ],
      "metadata": {
        "colab": {
          "base_uri": "https://localhost:8080/"
        },
        "id": "xju-x6mdUlge",
        "outputId": "8c829625-e837-4ec1-d932-75fd0fee9d55"
      },
      "execution_count": 39,
      "outputs": [
        {
          "output_type": "stream",
          "name": "stdout",
          "text": [
            "True\n"
          ]
        }
      ]
    },
    {
      "cell_type": "code",
      "source": [
        "#26Write a code to create a list, a tuple, and a dictionary, and print them all.\n",
        "my_list = [1, 2, 3]\n",
        "my_tuple = ('a', 'b', 'c')\n",
        "my_dict = {'key1': 'value1', 'key2': 'value2'}\n",
        "print(my_list)\n",
        "print(my_tuple)\n",
        "print(my_dict)"
      ],
      "metadata": {
        "colab": {
          "base_uri": "https://localhost:8080/"
        },
        "id": "R7HEEv6lUldc",
        "outputId": "4e172705-e188-4471-d244-6874c4424acf"
      },
      "execution_count": 40,
      "outputs": [
        {
          "output_type": "stream",
          "name": "stdout",
          "text": [
            "[1, 2, 3]\n",
            "('a', 'b', 'c')\n",
            "{'key1': 'value1', 'key2': 'value2'}\n"
          ]
        }
      ]
    },
    {
      "cell_type": "code",
      "source": [
        "#27 Write a code to create a list of 5 random numbers between 1 and 100, sort it in ascending order, and print the result. (Replaced)\n",
        "import random\n",
        "my_list = [random.randint(1, 100) for _ in range(5)]\n",
        "my_list.sort()\n",
        "print(my_list)"
      ],
      "metadata": {
        "colab": {
          "base_uri": "https://localhost:8080/"
        },
        "id": "dGktSDOTUlbG",
        "outputId": "1c48ab42-459c-4305-efe6-d459b2b504ce"
      },
      "execution_count": 41,
      "outputs": [
        {
          "output_type": "stream",
          "name": "stdout",
          "text": [
            "[20, 25, 42, 59, 65]\n"
          ]
        }
      ]
    },
    {
      "cell_type": "code",
      "source": [
        "#28 Write a code to create a list with strings and print the element at the third index.\n",
        "my_list = ['apple', 'banana', 'cherry', 'date']\n",
        "print(my_list[3])"
      ],
      "metadata": {
        "colab": {
          "base_uri": "https://localhost:8080/"
        },
        "id": "5zkx4_qkUlYZ",
        "outputId": "577e4061-75a5-487f-d5e9-40e0a54d18fc"
      },
      "execution_count": 42,
      "outputs": [
        {
          "output_type": "stream",
          "name": "stdout",
          "text": [
            "date\n"
          ]
        }
      ]
    },
    {
      "cell_type": "code",
      "source": [
        "#29 Write a code to combine two dictionaries into one and print the result.\n",
        "dict1 = {'a': 1, 'b': 2}\n",
        "dict2 = {'c': 3, 'd': 4}\n",
        "combined_dict = {**dict1, **dict2}\n",
        "print(combined_dict)"
      ],
      "metadata": {
        "colab": {
          "base_uri": "https://localhost:8080/"
        },
        "id": "5Onr6dFtUlV0",
        "outputId": "1ab8b24c-759f-4f41-ab01-0fb52d768a85"
      },
      "execution_count": 43,
      "outputs": [
        {
          "output_type": "stream",
          "name": "stdout",
          "text": [
            "{'a': 1, 'b': 2, 'c': 3, 'd': 4}\n"
          ]
        }
      ]
    },
    {
      "cell_type": "code",
      "source": [
        "#30Write a code to convert a list of strings into a set.\n",
        "my_list = ['apple', 'banana', 'apple']\n",
        "my_set = set(my_list)\n",
        "print(my_set)"
      ],
      "metadata": {
        "colab": {
          "base_uri": "https://localhost:8080/"
        },
        "id": "OXmngHfyUlTO",
        "outputId": "6c2dc1e5-df13-420e-a3ab-9acbad54674f"
      },
      "execution_count": 44,
      "outputs": [
        {
          "output_type": "stream",
          "name": "stdout",
          "text": [
            "{'apple', 'banana'}\n"
          ]
        }
      ]
    }
  ]
}