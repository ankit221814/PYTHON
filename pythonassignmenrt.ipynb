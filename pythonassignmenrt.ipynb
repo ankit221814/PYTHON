{
  "nbformat": 4,
  "nbformat_minor": 0,
  "metadata": {
    "colab": {
      "provenance": [],
      "authorship_tag": "ABX9TyMAiBYbyQi7i/1NTFjPncu+",
      "include_colab_link": true
    },
    "kernelspec": {
      "name": "python3",
      "display_name": "Python 3"
    },
    "language_info": {
      "name": "python"
    }
  },
  "cells": [
    {
      "cell_type": "markdown",
      "metadata": {
        "id": "view-in-github",
        "colab_type": "text"
      },
      "source": [
        "<a href=\"https://colab.research.google.com/github/ankit221814/PYTHON/blob/main/pythonassignmenrt.ipynb\" target=\"_parent\"><img src=\"https://colab.research.google.com/assets/colab-badge.svg\" alt=\"Open In Colab\"/></a>"
      ]
    },
    {
      "cell_type": "markdown",
      "source": [
        "1.What is python,and why is it popular?\n",
        "\n",
        "Answer:- Python is aprogrammin language that is easy to understand and write ,making it a popular choice among developers and programmers.Python is popular because it is compatible with various programming paradigms,such as procedural,object-oriented,and functional programming.It has large and active community of developers and extensive standard library.\n"
      ],
      "metadata": {
        "id": "65A71BJJZB4k"
      }
    },
    {
      "cell_type": "markdown",
      "source": [
        "2.What is an interpreter in python?\n",
        "\n",
        "Answer:-An interpreter is a program that directly executes your python code.It's essential components that bridges the gap between the human-readable code you write and the machine-level instructions that your computer understands.\n",
        "\n",
        "\n",
        "\n",
        "\n"
      ],
      "metadata": {
        "id": "din6l8FLYkcV"
      }
    },
    {
      "cell_type": "markdown",
      "source": [
        "3.What are pre-defined keywords in python?\n",
        "\n",
        "Ansswer:-In python,keywords are set of pre-defined reserved words that have special meaning and are essential to thre language's syntax and structure.You cannot use these words as identifiers(names of variables,functions,classes,etc)because the python interpreter uses them to understand the code."
      ],
      "metadata": {
        "id": "xIrRXMPmYhQk"
      }
    },
    {
      "cell_type": "markdown",
      "source": [
        "4.Can keywords be used as variable name?\n",
        "\n",
        "Answer:-No,keywords cannot be used as variable name in python.Keywords are reserved words that have specific,predefined meaning to the python interpreter."
      ],
      "metadata": {
        "id": "yLFAyHvTfwZ6"
      }
    },
    {
      "cell_type": "markdown",
      "source": [
        "5.What is mutability in Python?\n",
        "\n",
        "Answer:- In Python, mutability refers to the ability of an object to be changed after it has been created.It's a fundamental concept that distinguishes different data types and effect how they behave in your code."
      ],
      "metadata": {
        "id": "ZHjcYd1mfx8v"
      }
    },
    {
      "cell_type": "markdown",
      "source": [
        "6.Why are lists mutable,but tuples are immutable?\n",
        "\n",
        "Answer;-Lists are designed for dynamic,changeable sequence.Changing elements in-place is faster and uses less memory than creating an entirely new list\n",
        "Tuples are meant for fixed collections- often representing a single record or coordinates.\n"
      ],
      "metadata": {
        "id": "h2t8C5IDfxy0"
      }
    },
    {
      "cell_type": "markdown",
      "source": [
        "7.What is the difference between \"==\" and \"is\" operators in python?\n",
        "\n",
        "Answer:-In Python ,\"==\" equality of values checks whether two objects have the same content.\n",
        "is- identify whether two variable points to the exact same object(same memory address)\n",
        "\n"
      ],
      "metadata": {
        "id": "dVaAw7rZfxbL"
      }
    },
    {
      "cell_type": "markdown",
      "source": [
        "8.What are logical operators in Python?\n",
        "\n",
        "Answer:-In python, logical operators are used to combine or manipulates boolean values(Truse/False)\n",
        "\n",
        "There are three main logical operators:\n",
        "->AND\n",
        "->OR\n",
        "->NOT"
      ],
      "metadata": {
        "id": "tNAgLOc1kLtm"
      }
    },
    {
      "cell_type": "markdown",
      "source": [
        "9.What is type casting in python?\n",
        "\n",
        "Answer:-Type casting in python means converting a value from one data type to another - for example,turning a string into an integer,or a float into a string\n",
        "\n"
      ],
      "metadata": {
        "id": "_z-Wl530kM7J"
      }
    },
    {
      "cell_type": "markdown",
      "source": [
        "10.What is the difference between implicit and explicit type casting?\n",
        "\n",
        "Answer:- Implicit casting - Automatic conversion of a smaller pr compatible data type into a larger or more general type by Python during operations.\n",
        "Initiated by python interpreter\n",
        "Explicit casting - manual conversion of one datas type into another using predefined functions or constructors(int().float(),str(),etc)."
      ],
      "metadata": {
        "id": "65IdufBtkNUs"
      }
    },
    {
      "cell_type": "markdown",
      "source": [
        "11.What is the purpose of conditional statements in pyrthon?\n",
        "\n",
        "Answer:-The purpose of conditional statements in python is to let a program make decisions and executes different blocks of code depending on whether a condition is true or false."
      ],
      "metadata": {
        "id": "KO13BJBvkMsa"
      }
    },
    {
      "cell_type": "markdown",
      "source": [
        "12.How does the elif statements work?\n",
        "\n",
        "Answer:- In python the elif statements helps to check multiple possible conditions in order,but ensures that only one matching block runs."
      ],
      "metadata": {
        "id": "oYJN8kUhonor"
      }
    },
    {
      "cell_type": "markdown",
      "source": [
        "13.What is the difference for and while loops?\n",
        "\n",
        "Answer:-For loop - a control flow statement that iterates over items of an iterable object in sequence.It automatically stops when there are no more elements in the iterable.\n",
        "\n",
        "while loop- a control flow statement that repeats execution of a block of code as long as a given boolean condition is True."
      ],
      "metadata": {
        "id": "v6BX56i3ooUb"
      }
    },
    {
      "cell_type": "markdown",
      "source": [
        "14.Describe a scenario where a while loop is more suitable than a for loop.\n",
        "Answer:-"
      ],
      "metadata": {
        "id": "OFgKMbTWoo33"
      }
    },
    {
      "cell_type": "code",
      "source": [
        "correct_password = \"secret123\"\n",
        "user_input = input(\"Enter password: \")\n",
        "\n",
        "while user_input != correct_password:\n",
        "    print(\"Incorrect password. Try again.\")\n",
        "    user_input = input(\"Enter password: \")\n",
        "\n",
        "print(\"Access granted!\")"
      ],
      "metadata": {
        "colab": {
          "base_uri": "https://localhost:8080/"
        },
        "id": "IcD_0j89r75s",
        "outputId": "65a464dd-8dbb-4db3-b910-ef9346174e18"
      },
      "execution_count": 1,
      "outputs": [
        {
          "output_type": "stream",
          "name": "stdout",
          "text": [
            "Enter password: 12\n",
            "Incorrect password. Try again.\n",
            "Enter password: secret123\n",
            "Access granted!\n"
          ]
        }
      ]
    },
    {
      "cell_type": "code",
      "source": [
        "#Write a python program to print \"Hello, World!\"\n",
        "\n",
        "print(\"Hello,World!\")"
      ],
      "metadata": {
        "colab": {
          "base_uri": "https://localhost:8080/"
        },
        "id": "ACPjAD_LsblM",
        "outputId": "d1779f8b-2ca6-42fc-d1c8-56fe52a8889a"
      },
      "execution_count": 2,
      "outputs": [
        {
          "output_type": "stream",
          "name": "stdout",
          "text": [
            "Hello,World!\n"
          ]
        }
      ]
    },
    {
      "cell_type": "code",
      "source": [
        "#write a python program that displays your name and age.\n",
        "\n",
        "\n",
        "name = \"Ankit Kumar\"\n",
        "age = 23\n",
        "\n",
        "print(\"Name:\", name)\n",
        "print(\"Age:\", age)"
      ],
      "metadata": {
        "colab": {
          "base_uri": "https://localhost:8080/"
        },
        "id": "zSRX99fMsb_G",
        "outputId": "3bc0196d-00eb-464e-ab3e-ce58308c6d4b"
      },
      "execution_count": 3,
      "outputs": [
        {
          "output_type": "stream",
          "name": "stdout",
          "text": [
            "Name: Ankit Kumar\n",
            "Age: 23\n"
          ]
        }
      ]
    },
    {
      "cell_type": "code",
      "source": [
        "#write a code to print all the pre-defined keywords in python using the keyword library\n",
        "\n",
        "help('keywords')"
      ],
      "metadata": {
        "colab": {
          "base_uri": "https://localhost:8080/"
        },
        "id": "eCY-WVnescaJ",
        "outputId": "da365966-5109-4800-dbda-8f367ec7977a"
      },
      "execution_count": 4,
      "outputs": [
        {
          "output_type": "stream",
          "name": "stdout",
          "text": [
            "\n",
            "Here is a list of the Python keywords.  Enter any keyword to get more help.\n",
            "\n",
            "False               class               from                or\n",
            "None                continue            global              pass\n",
            "True                def                 if                  raise\n",
            "and                 del                 import              return\n",
            "as                  elif                in                  try\n",
            "assert              else                is                  while\n",
            "async               except              lambda              with\n",
            "await               finally             nonlocal            yield\n",
            "break               for                 not                 \n",
            "\n"
          ]
        }
      ]
    },
    {
      "cell_type": "code",
      "source": [
        "#write a program that checks if a given word is a python keyword.\n",
        "\n",
        "import keyword\n",
        "\n",
        "word = input(\"Enter a word: \")\n",
        "\n",
        "if keyword.iskeyword(word):\n",
        "    print(\"It is a Python keyword.\")\n",
        "else:\n",
        "    print(\"It is not a Python keyword.\")"
      ],
      "metadata": {
        "colab": {
          "base_uri": "https://localhost:8080/"
        },
        "id": "l6WF2017v5Es",
        "outputId": "010c1067-7965-4a83-bc35-6fb218c8af53"
      },
      "execution_count": 6,
      "outputs": [
        {
          "output_type": "stream",
          "name": "stdout",
          "text": [
            "Enter a word: True\n",
            "It is a Python keyword.\n"
          ]
        }
      ]
    },
    {
      "cell_type": "code",
      "source": [
        "#create a list and tuple in python,and demonstrate how attempting to change an element works differently for each.\n",
        "\n",
        "my_list = [1, 2, 3]\n",
        "my_tuple = (1, 2, 3)\n",
        "\n",
        "my_list[0] = 10\n",
        "print(\"List after change:\", my_list)\n",
        "\n",
        "print(\"Tuple (unchanged):\", my_tuple)\n"
      ],
      "metadata": {
        "colab": {
          "base_uri": "https://localhost:8080/"
        },
        "id": "kyTX5HMbv5YX",
        "outputId": "20132fdb-2339-4d4f-b81e-070c0abb2be0"
      },
      "execution_count": 9,
      "outputs": [
        {
          "output_type": "stream",
          "name": "stdout",
          "text": [
            "List after change: [10, 2, 3]\n",
            "Tuple (unchanged): (1, 2, 3)\n"
          ]
        }
      ]
    },
    {
      "cell_type": "code",
      "source": [
        "#write a function to demonstrate the behavior of mutable and immutable argument.\n",
        "\n",
        "def change_values(number, my_list):\n",
        "    number = 100         # This change won't affect the original number\n",
        "    my_list.append(100)  # This change will affect the original list\n",
        "\n",
        "num = 5\n",
        "lst = [1, 2, 3]\n",
        "\n",
        "change_values(num, lst)\n",
        "\n",
        "print(num)  # Prints 5 (unchanged)\n",
        "print(lst)  # Prints [1, 2, 3, 100] (changed)\n"
      ],
      "metadata": {
        "colab": {
          "base_uri": "https://localhost:8080/"
        },
        "id": "phAwqGX1v5t7",
        "outputId": "995e7152-2b73-41fb-c0e2-ce134fa3e399"
      },
      "execution_count": 10,
      "outputs": [
        {
          "output_type": "stream",
          "name": "stdout",
          "text": [
            "5\n",
            "[1, 2, 3, 100]\n"
          ]
        }
      ]
    },
    {
      "cell_type": "code",
      "source": [
        "#Writes a program that performs basic airthmatic operations on two user-input numbers.\n",
        "\n",
        "a = int(input(\"First number: \"))\n",
        "b = int(input(\"Second number: \"))\n",
        "\n",
        "print(\"Add:\", a+b)\n",
        "print(\"Sub:\", a-b)\n",
        "print(\"Mul:\", a*b)\n",
        "print(\"Div:\", a/b if b != 0 else \"Error: divide by zero\")\n"
      ],
      "metadata": {
        "colab": {
          "base_uri": "https://localhost:8080/"
        },
        "id": "8y4Yam4tv6Sw",
        "outputId": "4847f6d7-52ec-47da-d46d-c84c5a3a8905"
      },
      "execution_count": 11,
      "outputs": [
        {
          "output_type": "stream",
          "name": "stdout",
          "text": [
            "First number: 2\n",
            "Second number: 3\n",
            "Add: 5\n",
            "Sub: -1\n",
            "Mul: 6\n",
            "Div: 0.6666666666666666\n"
          ]
        }
      ]
    },
    {
      "cell_type": "code",
      "source": [
        "#write a program that demonstrate the use of logical operator.\n",
        "\n",
        "x = True\n",
        "y = False\n",
        "\n",
        "print(x and y)  # False\n",
        "print(x or y)   # True\n",
        "print(not x)    # False\n"
      ],
      "metadata": {
        "colab": {
          "base_uri": "https://localhost:8080/"
        },
        "id": "maRKQ1ypzN-Z",
        "outputId": "0aac3ede-fa82-4893-d8df-7a70f7205a94"
      },
      "execution_count": 12,
      "outputs": [
        {
          "output_type": "stream",
          "name": "stdout",
          "text": [
            "False\n",
            "True\n",
            "False\n"
          ]
        }
      ]
    },
    {
      "cell_type": "code",
      "source": [
        "#write a python program to  convert user input from string to integer,float and boolean types.\n",
        "\n",
        "s = input(\"Enter value: \")\n",
        "\n",
        "print(\"Integer:\", int(s))\n",
        "print(\"Float:\", float(s))\n",
        "print(\"Boolean:\", bool(s))\n"
      ],
      "metadata": {
        "colab": {
          "base_uri": "https://localhost:8080/"
        },
        "id": "ywS4jOgEzNvO",
        "outputId": "d84b59e8-1f78-42a7-8548-79f5f34cedbd"
      },
      "execution_count": 14,
      "outputs": [
        {
          "output_type": "stream",
          "name": "stdout",
          "text": [
            "Enter value: 3\n",
            "Integer: 3\n",
            "Float: 3.0\n",
            "Boolean: True\n"
          ]
        }
      ]
    },
    {
      "cell_type": "code",
      "source": [
        "#write a code to demonstrate type casting with list elements.\n",
        "\n",
        "lst = ['1', '2', '3']\n",
        "lst = [int(x) for x in lst]\n",
        "print(lst)\n"
      ],
      "metadata": {
        "colab": {
          "base_uri": "https://localhost:8080/"
        },
        "id": "PzBW8nu-zNfA",
        "outputId": "c36eb2a4-6492-4877-d7e5-84fc2ed301d0"
      },
      "execution_count": 15,
      "outputs": [
        {
          "output_type": "stream",
          "name": "stdout",
          "text": [
            "[1, 2, 3]\n"
          ]
        }
      ]
    },
    {
      "cell_type": "code",
      "source": [
        "#write a program that checks if a number is positive ,negative or zero.\n",
        "\n",
        "num = float(input(\"Enter a number: \"))\n",
        "\n",
        "if num > 0:\n",
        "    print(\"Positive number\")\n",
        "elif num < 0:\n",
        "    print(\"Negative number\")\n",
        "else:\n",
        "    print(\"Zero\")\n"
      ],
      "metadata": {
        "colab": {
          "base_uri": "https://localhost:8080/"
        },
        "id": "tceDIY3vzNVB",
        "outputId": "9b161e59-0ae5-4655-99d8-4015377456b1"
      },
      "execution_count": 16,
      "outputs": [
        {
          "output_type": "stream",
          "name": "stdout",
          "text": [
            "Enter a number: 2\n",
            "Positive number\n"
          ]
        }
      ]
    },
    {
      "cell_type": "code",
      "source": [
        "#write a for loop to print numbers from 1 to 10.\n",
        "\n",
        "for i in range(1, 11):\n",
        "    print(i)\n"
      ],
      "metadata": {
        "colab": {
          "base_uri": "https://localhost:8080/"
        },
        "id": "9N_AEjGr1zAY",
        "outputId": "ed190cc9-58cf-42bb-aa34-387ecb4ee39b"
      },
      "execution_count": 17,
      "outputs": [
        {
          "output_type": "stream",
          "name": "stdout",
          "text": [
            "1\n",
            "2\n",
            "3\n",
            "4\n",
            "5\n",
            "6\n",
            "7\n",
            "8\n",
            "9\n",
            "10\n"
          ]
        }
      ]
    },
    {
      "cell_type": "code",
      "source": [
        "#write a python program to find the sum of all even numbers 1 and 50.\n",
        "\n",
        "total = 0\n",
        "for num in range(2, 51, 2):\n",
        "    total += num\n",
        "\n",
        "print(\"Sum of even numbers from 1 to 50 is:\", total)\n"
      ],
      "metadata": {
        "colab": {
          "base_uri": "https://localhost:8080/"
        },
        "id": "Xq-3JRag12AD",
        "outputId": "1a7ccc16-b5e6-47b0-8ffe-1df77018dc81"
      },
      "execution_count": 18,
      "outputs": [
        {
          "output_type": "stream",
          "name": "stdout",
          "text": [
            "Sum of even numbers from 1 to 50 is: 650\n"
          ]
        }
      ]
    },
    {
      "cell_type": "code",
      "source": [
        "#write a program to reverse a string using a while loop.\n",
        "\n",
        "s = input(\"Enter string: \")\n",
        "rev = \"\"\n",
        "i = len(s) - 1\n",
        "\n",
        "while i >= 0:\n",
        "    rev += s[i]\n",
        "    i -= 1\n",
        "\n",
        "print(rev)\n"
      ],
      "metadata": {
        "colab": {
          "base_uri": "https://localhost:8080/"
        },
        "id": "C-NXu_yN111X",
        "outputId": "8c1dc377-acef-474f-c163-3fafd48fc86d"
      },
      "execution_count": 20,
      "outputs": [
        {
          "output_type": "stream",
          "name": "stdout",
          "text": [
            "Enter string: ajay\n",
            "yaja\n"
          ]
        }
      ]
    },
    {
      "cell_type": "code",
      "source": [
        "#write a python program to calculate the factorial of a number provided by the user using a while loop.\n",
        "\n",
        "num = int(input(\"Number: \"))\n",
        "fact = 1\n",
        "\n",
        "while num > 1:\n",
        "    fact = fact * num\n",
        "    num = num - 1\n",
        "\n",
        "print(\"Factorial =\", fact)\n"
      ],
      "metadata": {
        "colab": {
          "base_uri": "https://localhost:8080/"
        },
        "id": "XXlsvI4J11pY",
        "outputId": "dbf05afb-0e56-43d3-c119-501b7282f856"
      },
      "execution_count": 21,
      "outputs": [
        {
          "output_type": "stream",
          "name": "stdout",
          "text": [
            "Number: 34\n",
            "Factorial = 295232799039604140847618609643520000000\n"
          ]
        }
      ]
    }
  ]
}